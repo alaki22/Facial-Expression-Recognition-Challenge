{
  "nbformat": 4,
  "nbformat_minor": 0,
  "metadata": {
    "colab": {
      "name": "Tips_tricks_35_loading_kaggle_data_to_colab.ipynb",
      "provenance": [],
      "include_colab_link": true
    },
    "kernelspec": {
      "name": "python3",
      "display_name": "Python 3"
    },
    "language_info": {
      "name": "python"
    }
  },
  "cells": [
    {
      "cell_type": "markdown",
      "metadata": {
        "id": "view-in-github",
        "colab_type": "text"
      },
      "source": [
        "<a href=\"https://colab.research.google.com/github/alaki22/Facial-Expression-Recognition-Challenge/blob/main/loading_kaggle_data_to_colab.ipynb\" target=\"_parent\"><img src=\"https://colab.research.google.com/assets/colab-badge.svg\" alt=\"Open In Colab\"/></a>"
      ]
    },
    {
      "cell_type": "markdown",
      "source": [
        "https://youtu.be/yEXkEUqK52Q"
      ],
      "metadata": {
        "id": "RfYmOIDroDLd"
      }
    },
    {
      "cell_type": "markdown",
      "source": [
        "**Downloading Kaggle data sets directly into Colab**"
      ],
      "metadata": {
        "id": "SyZxTF7lf7jk"
      }
    },
    {
      "cell_type": "markdown",
      "source": [
        "Install the kaggle python library"
      ],
      "metadata": {
        "id": "7lvdgeEMgCoy"
      }
    },
    {
      "cell_type": "code",
      "execution_count": 2,
      "metadata": {
        "colab": {
          "base_uri": "https://localhost:8080/"
        },
        "id": "KlwSaX9akGfG",
        "outputId": "7f76ecd5-ce92-4c39-cb6a-7ec4ad6e6389"
      },
      "outputs": [
        {
          "output_type": "stream",
          "name": "stdout",
          "text": [
            "Requirement already satisfied: kaggle in /usr/local/lib/python3.11/dist-packages (1.7.4.5)\n",
            "Requirement already satisfied: bleach in /usr/local/lib/python3.11/dist-packages (from kaggle) (6.2.0)\n",
            "Requirement already satisfied: certifi>=14.05.14 in /usr/local/lib/python3.11/dist-packages (from kaggle) (2025.4.26)\n",
            "Requirement already satisfied: charset-normalizer in /usr/local/lib/python3.11/dist-packages (from kaggle) (3.4.2)\n",
            "Requirement already satisfied: idna in /usr/local/lib/python3.11/dist-packages (from kaggle) (3.10)\n",
            "Requirement already satisfied: protobuf in /usr/local/lib/python3.11/dist-packages (from kaggle) (5.29.5)\n",
            "Requirement already satisfied: python-dateutil>=2.5.3 in /usr/local/lib/python3.11/dist-packages (from kaggle) (2.9.0.post0)\n",
            "Requirement already satisfied: python-slugify in /usr/local/lib/python3.11/dist-packages (from kaggle) (8.0.4)\n",
            "Requirement already satisfied: requests in /usr/local/lib/python3.11/dist-packages (from kaggle) (2.32.3)\n",
            "Requirement already satisfied: setuptools>=21.0.0 in /usr/local/lib/python3.11/dist-packages (from kaggle) (75.2.0)\n",
            "Requirement already satisfied: six>=1.10 in /usr/local/lib/python3.11/dist-packages (from kaggle) (1.17.0)\n",
            "Requirement already satisfied: text-unidecode in /usr/local/lib/python3.11/dist-packages (from kaggle) (1.3)\n",
            "Requirement already satisfied: tqdm in /usr/local/lib/python3.11/dist-packages (from kaggle) (4.67.1)\n",
            "Requirement already satisfied: urllib3>=1.15.1 in /usr/local/lib/python3.11/dist-packages (from kaggle) (2.4.0)\n",
            "Requirement already satisfied: webencodings in /usr/local/lib/python3.11/dist-packages (from kaggle) (0.5.1)\n"
          ]
        }
      ],
      "source": [
        "! pip install kaggle"
      ]
    },
    {
      "cell_type": "markdown",
      "source": [
        "Mount the Google drive so you can store your kaggle API credentials for future use"
      ],
      "metadata": {
        "id": "rw0DfSAggHED"
      }
    },
    {
      "cell_type": "code",
      "source": [
        "from google.colab import drive\n",
        "drive.mount('/content/drive')"
      ],
      "metadata": {
        "colab": {
          "base_uri": "https://localhost:8080/"
        },
        "id": "NGineQt7dErh",
        "outputId": "30aa4afa-8513-47fc-dc05-1433a92ec165"
      },
      "execution_count": 76,
      "outputs": [
        {
          "output_type": "stream",
          "name": "stdout",
          "text": [
            "Drive already mounted at /content/drive; to attempt to forcibly remount, call drive.mount(\"/content/drive\", force_remount=True).\n"
          ]
        }
      ]
    },
    {
      "cell_type": "markdown",
      "source": [
        "Make a directory for kaggle at the temporary instance location on Colab drive.\n",
        "\n",
        "Download your kaggle API key (.json file). You can do this by going to your kaggle account page and clicking 'Create new API token' under the API section."
      ],
      "metadata": {
        "id": "Rvmi3WbigOmT"
      }
    },
    {
      "cell_type": "markdown",
      "source": [],
      "metadata": {
        "id": "vhywUxLXgjBS"
      }
    },
    {
      "cell_type": "code",
      "source": [
        "! mkdir ~/.kaggle"
      ],
      "metadata": {
        "id": "ZTkKggcylXfa"
      },
      "execution_count": 4,
      "outputs": []
    },
    {
      "cell_type": "markdown",
      "source": [
        "If you want to copy the kaggle API credentials to the temporary location... (I recommend placing it on your Google Drive)"
      ],
      "metadata": {
        "id": "rKv_7jNggXv7"
      }
    },
    {
      "cell_type": "code",
      "source": [
        "#! cp kaggle.json ~/.kaggle/"
      ],
      "metadata": {
        "id": "DD56NrWmlb5V"
      },
      "execution_count": 5,
      "outputs": []
    },
    {
      "cell_type": "markdown",
      "source": [
        "Upload the json file to Google Drive and then copy to the temporary location."
      ],
      "metadata": {
        "id": "p3N4it0xrFmU"
      }
    },
    {
      "cell_type": "code",
      "source": [
        "!cp /content/drive/MyDrive/ColabNotebooks/kaggle_API_credentials/kaggle.json ~/.kaggle/kaggle.json"
      ],
      "metadata": {
        "id": "IQq6ZMyTrEfO"
      },
      "execution_count": 6,
      "outputs": []
    },
    {
      "cell_type": "markdown",
      "source": [
        "Change the file permissions to read/write to the owner only"
      ],
      "metadata": {
        "id": "p3dHJgtLehrM"
      }
    },
    {
      "cell_type": "code",
      "source": [
        "! chmod 600 ~/.kaggle/kaggle.json"
      ],
      "metadata": {
        "id": "7ncAtrq2lg5F"
      },
      "execution_count": 7,
      "outputs": []
    },
    {
      "cell_type": "markdown",
      "source": [
        "**Competitions and Datasets are the two types of Kaggle data**"
      ],
      "metadata": {
        "id": "Rb3Zm9VMlu3t"
      }
    },
    {
      "cell_type": "markdown",
      "source": [
        "**1. Download competition data**\n",
        "\n",
        "If you get 403 Forbidden error, you need to click 'Late Submission' on the Kaggle page for that competition."
      ],
      "metadata": {
        "id": "OrdSFfGjl3Ud"
      }
    },
    {
      "cell_type": "code",
      "source": [
        "! kaggle competitions download -c challenges-in-representation-learning-facial-expression-recognition-challenge"
      ],
      "metadata": {
        "colab": {
          "base_uri": "https://localhost:8080/"
        },
        "id": "C0yNdtoRln8A",
        "outputId": "7e9b64cb-3dac-4a84-dc53-e26892d50bf1"
      },
      "execution_count": 8,
      "outputs": [
        {
          "output_type": "stream",
          "name": "stdout",
          "text": [
            "Downloading challenges-in-representation-learning-facial-expression-recognition-challenge.zip to /content\n",
            " 87% 248M/285M [00:00<00:00, 744MB/s] \n",
            "100% 285M/285M [00:00<00:00, 788MB/s]\n"
          ]
        }
      ]
    },
    {
      "cell_type": "markdown",
      "source": [
        "Unzip, in case the downloaded file is zipped. Refresh the files on the left hand side to update the view."
      ],
      "metadata": {
        "id": "fRmXZnHghNAz"
      }
    },
    {
      "cell_type": "code",
      "source": [
        "! unzip challenges-in-representation-learning-facial-expression-recognition-challenge"
      ],
      "metadata": {
        "colab": {
          "base_uri": "https://localhost:8080/"
        },
        "id": "dAs9oVnNoziL",
        "outputId": "d5f35774-f2a7-419f-daec-69560006b967"
      },
      "execution_count": 14,
      "outputs": [
        {
          "output_type": "stream",
          "name": "stdout",
          "text": [
            "Archive:  challenges-in-representation-learning-facial-expression-recognition-challenge.zip\n",
            "  inflating: example_submission.csv  \n",
            "  inflating: fer2013.tar.gz          \n",
            "  inflating: icml_face_data.csv      \n",
            "  inflating: test.csv                \n",
            "  inflating: train.csv               \n"
          ]
        }
      ]
    },
    {
      "cell_type": "code",
      "source": [
        "!pip install -q wandb\n",
        "\n",
        "import wandb\n",
        "wandb.login()"
      ],
      "metadata": {
        "colab": {
          "base_uri": "https://localhost:8080/",
          "height": 195
        },
        "id": "6UPdZ8yIUBfG",
        "outputId": "241aac08-d3cd-462e-94da-02819b4083bc"
      },
      "execution_count": 9,
      "outputs": [
        {
          "output_type": "display_data",
          "data": {
            "text/plain": [
              "<IPython.core.display.Javascript object>"
            ],
            "application/javascript": [
              "\n",
              "        window._wandbApiKey = new Promise((resolve, reject) => {\n",
              "            function loadScript(url) {\n",
              "            return new Promise(function(resolve, reject) {\n",
              "                let newScript = document.createElement(\"script\");\n",
              "                newScript.onerror = reject;\n",
              "                newScript.onload = resolve;\n",
              "                document.body.appendChild(newScript);\n",
              "                newScript.src = url;\n",
              "            });\n",
              "            }\n",
              "            loadScript(\"https://cdn.jsdelivr.net/npm/postmate/build/postmate.min.js\").then(() => {\n",
              "            const iframe = document.createElement('iframe')\n",
              "            iframe.style.cssText = \"width:0;height:0;border:none\"\n",
              "            document.body.appendChild(iframe)\n",
              "            const handshake = new Postmate({\n",
              "                container: iframe,\n",
              "                url: 'https://wandb.ai/authorize'\n",
              "            });\n",
              "            const timeout = setTimeout(() => reject(\"Couldn't auto authenticate\"), 5000)\n",
              "            handshake.then(function(child) {\n",
              "                child.on('authorize', data => {\n",
              "                    clearTimeout(timeout)\n",
              "                    resolve(data)\n",
              "                });\n",
              "            });\n",
              "            })\n",
              "        });\n",
              "    "
            ]
          },
          "metadata": {}
        },
        {
          "output_type": "stream",
          "name": "stderr",
          "text": [
            "\u001b[34m\u001b[1mwandb\u001b[0m: Logging into wandb.ai. (Learn how to deploy a W&B server locally: https://wandb.me/wandb-server)\n",
            "\u001b[34m\u001b[1mwandb\u001b[0m: You can find your API key in your browser here: https://wandb.ai/authorize\n",
            "wandb: Paste an API key from your profile and hit enter:"
          ]
        },
        {
          "name": "stdout",
          "output_type": "stream",
          "text": [
            " ··········\n"
          ]
        },
        {
          "output_type": "stream",
          "name": "stderr",
          "text": [
            "\u001b[34m\u001b[1mwandb\u001b[0m: \u001b[33mWARNING\u001b[0m If you're specifying your api key in code, ensure this code is not shared publicly.\n",
            "\u001b[34m\u001b[1mwandb\u001b[0m: \u001b[33mWARNING\u001b[0m Consider setting the WANDB_API_KEY environment variable, or running `wandb login` from the command line.\n",
            "\u001b[34m\u001b[1mwandb\u001b[0m: No netrc file found, creating one.\n",
            "\u001b[34m\u001b[1mwandb\u001b[0m: Appending key for api.wandb.ai to your netrc file: /root/.netrc\n",
            "\u001b[34m\u001b[1mwandb\u001b[0m: Currently logged in as: \u001b[33malaki22\u001b[0m (\u001b[33malaki22-free-university-of-tbilisi-\u001b[0m) to \u001b[32mhttps://api.wandb.ai\u001b[0m. Use \u001b[1m`wandb login --relogin`\u001b[0m to force relogin\n"
          ]
        },
        {
          "output_type": "execute_result",
          "data": {
            "text/plain": [
              "True"
            ]
          },
          "metadata": {},
          "execution_count": 9
        }
      ]
    },
    {
      "cell_type": "code",
      "source": [
        "import pandas as pd\n",
        "import numpy as np\n",
        "import matplotlib.pyplot as plt\n",
        "from sklearn.model_selection import train_test_split\n",
        "from sklearn.metrics import accuracy_score\n",
        "from sklearn.metrics import classification_report\n",
        "from sklearn.metrics import confusion_matrix\n",
        "\n",
        "import torch\n",
        "import torch.nn as nn\n",
        "import torch.optim as optim\n",
        "from torch.utils.data import Dataset, DataLoader\n",
        "from torchvision import transforms\n",
        "import seaborn as sns\n",
        "import os"
      ],
      "metadata": {
        "id": "7lYOoWxeF0DS"
      },
      "execution_count": 15,
      "outputs": []
    },
    {
      "cell_type": "code",
      "source": [
        "device = torch.device(\"cuda\" if torch.cuda.is_available() else \"cpu\")\n",
        "# device = torch.device(\"cpu\")\n",
        "print(f\"Using device: {device}\")"
      ],
      "metadata": {
        "colab": {
          "base_uri": "https://localhost:8080/"
        },
        "id": "vTd6RtmpkM9X",
        "outputId": "2d90b19d-b0b5-42fa-a921-9959b243a8fa"
      },
      "execution_count": 11,
      "outputs": [
        {
          "output_type": "stream",
          "name": "stdout",
          "text": [
            "Using device: cuda\n"
          ]
        }
      ]
    },
    {
      "cell_type": "code",
      "source": [
        "df = pd.read_csv('icml_face_data.csv')"
      ],
      "metadata": {
        "id": "3LTcvEcyRCjB"
      },
      "execution_count": 16,
      "outputs": []
    },
    {
      "cell_type": "code",
      "source": [
        "X_val = df[df[' Usage'] == 'PrivateTest'].copy()\n",
        "X_train = df[df[' Usage'] == 'Training'].copy()\n",
        "X_test = df[df[' Usage'] == 'PublicTest'].copy()\n",
        "print(f\"Actual Training set size: {len(X_train)}\")\n",
        "print(f\"Actual Validation set size: {len(X_val)}\")\n",
        "print(f\"Actual Public Test set size: {len(X_test)}\")"
      ],
      "metadata": {
        "colab": {
          "base_uri": "https://localhost:8080/"
        },
        "id": "OilZ-xtqstN3",
        "outputId": "643e2e80-8612-4f86-d85a-eb161c77042d"
      },
      "execution_count": 17,
      "outputs": [
        {
          "output_type": "stream",
          "name": "stdout",
          "text": [
            "Actual Training set size: 28709\n",
            "Actual Validation set size: 3589\n",
            "Actual Public Test set size: 3589\n"
          ]
        }
      ]
    },
    {
      "cell_type": "code",
      "source": [
        "df_training_only = df[df[' Usage'] == 'Training'].copy()"
      ],
      "metadata": {
        "id": "o1oqWPoYRtqY"
      },
      "execution_count": 18,
      "outputs": []
    },
    {
      "cell_type": "code",
      "source": [
        "subset_size = 20\n",
        "df_subset = df_training_only.head(subset_size)"
      ],
      "metadata": {
        "id": "cOrJO8wM1OBr"
      },
      "execution_count": 19,
      "outputs": []
    },
    {
      "cell_type": "code",
      "source": [
        "df_subset.head(subset_size)"
      ],
      "metadata": {
        "colab": {
          "base_uri": "https://localhost:8080/",
          "height": 677
        },
        "id": "xfZTuw7P5YHl",
        "outputId": "d018d0f8-f1f8-4ab0-ccc3-37c6daf48d03"
      },
      "execution_count": 20,
      "outputs": [
        {
          "output_type": "execute_result",
          "data": {
            "text/plain": [
              "    emotion     Usage                                             pixels\n",
              "0         0  Training  70 80 82 72 58 58 60 63 54 58 60 48 89 115 121...\n",
              "1         0  Training  151 150 147 155 148 133 111 140 170 174 182 15...\n",
              "2         2  Training  231 212 156 164 174 138 161 173 182 200 106 38...\n",
              "3         4  Training  24 32 36 30 32 23 19 20 30 41 21 22 32 34 21 1...\n",
              "4         6  Training  4 0 0 0 0 0 0 0 0 0 0 0 3 15 23 28 48 50 58 84...\n",
              "5         2  Training  55 55 55 55 55 54 60 68 54 85 151 163 170 179 ...\n",
              "6         4  Training  20 17 19 21 25 38 42 42 46 54 56 62 63 66 82 1...\n",
              "7         3  Training  77 78 79 79 78 75 60 55 47 48 58 73 77 79 57 5...\n",
              "8         3  Training  85 84 90 121 101 102 133 153 153 169 177 189 1...\n",
              "9         2  Training  255 254 255 254 254 179 122 107 95 124 149 150...\n",
              "10        0  Training  30 24 21 23 25 25 49 67 84 103 120 125 130 139...\n",
              "11        6  Training  39 75 78 58 58 45 49 48 103 156 81 45 41 38 49...\n",
              "12        6  Training  219 213 206 202 209 217 216 215 219 218 223 23...\n",
              "13        6  Training  148 144 130 129 119 122 129 131 139 153 140 12...\n",
              "14        3  Training  4 2 13 41 56 62 67 87 95 62 65 70 80 107 127 1...\n",
              "15        5  Training  107 107 109 109 109 109 110 101 123 140 144 14...\n",
              "16        3  Training  14 14 18 28 27 22 21 30 42 61 77 86 88 95 100 ...\n",
              "17        2  Training  255 255 255 255 255 255 255 255 255 255 255 25...\n",
              "18        6  Training  134 124 167 180 197 194 203 210 204 203 209 20...\n",
              "19        4  Training  219 192 179 148 208 254 192 98 121 103 145 185..."
            ],
            "text/html": [
              "\n",
              "  <div id=\"df-37bde20f-c7ae-4c05-bb7d-00e12be18951\" class=\"colab-df-container\">\n",
              "    <div>\n",
              "<style scoped>\n",
              "    .dataframe tbody tr th:only-of-type {\n",
              "        vertical-align: middle;\n",
              "    }\n",
              "\n",
              "    .dataframe tbody tr th {\n",
              "        vertical-align: top;\n",
              "    }\n",
              "\n",
              "    .dataframe thead th {\n",
              "        text-align: right;\n",
              "    }\n",
              "</style>\n",
              "<table border=\"1\" class=\"dataframe\">\n",
              "  <thead>\n",
              "    <tr style=\"text-align: right;\">\n",
              "      <th></th>\n",
              "      <th>emotion</th>\n",
              "      <th>Usage</th>\n",
              "      <th>pixels</th>\n",
              "    </tr>\n",
              "  </thead>\n",
              "  <tbody>\n",
              "    <tr>\n",
              "      <th>0</th>\n",
              "      <td>0</td>\n",
              "      <td>Training</td>\n",
              "      <td>70 80 82 72 58 58 60 63 54 58 60 48 89 115 121...</td>\n",
              "    </tr>\n",
              "    <tr>\n",
              "      <th>1</th>\n",
              "      <td>0</td>\n",
              "      <td>Training</td>\n",
              "      <td>151 150 147 155 148 133 111 140 170 174 182 15...</td>\n",
              "    </tr>\n",
              "    <tr>\n",
              "      <th>2</th>\n",
              "      <td>2</td>\n",
              "      <td>Training</td>\n",
              "      <td>231 212 156 164 174 138 161 173 182 200 106 38...</td>\n",
              "    </tr>\n",
              "    <tr>\n",
              "      <th>3</th>\n",
              "      <td>4</td>\n",
              "      <td>Training</td>\n",
              "      <td>24 32 36 30 32 23 19 20 30 41 21 22 32 34 21 1...</td>\n",
              "    </tr>\n",
              "    <tr>\n",
              "      <th>4</th>\n",
              "      <td>6</td>\n",
              "      <td>Training</td>\n",
              "      <td>4 0 0 0 0 0 0 0 0 0 0 0 3 15 23 28 48 50 58 84...</td>\n",
              "    </tr>\n",
              "    <tr>\n",
              "      <th>5</th>\n",
              "      <td>2</td>\n",
              "      <td>Training</td>\n",
              "      <td>55 55 55 55 55 54 60 68 54 85 151 163 170 179 ...</td>\n",
              "    </tr>\n",
              "    <tr>\n",
              "      <th>6</th>\n",
              "      <td>4</td>\n",
              "      <td>Training</td>\n",
              "      <td>20 17 19 21 25 38 42 42 46 54 56 62 63 66 82 1...</td>\n",
              "    </tr>\n",
              "    <tr>\n",
              "      <th>7</th>\n",
              "      <td>3</td>\n",
              "      <td>Training</td>\n",
              "      <td>77 78 79 79 78 75 60 55 47 48 58 73 77 79 57 5...</td>\n",
              "    </tr>\n",
              "    <tr>\n",
              "      <th>8</th>\n",
              "      <td>3</td>\n",
              "      <td>Training</td>\n",
              "      <td>85 84 90 121 101 102 133 153 153 169 177 189 1...</td>\n",
              "    </tr>\n",
              "    <tr>\n",
              "      <th>9</th>\n",
              "      <td>2</td>\n",
              "      <td>Training</td>\n",
              "      <td>255 254 255 254 254 179 122 107 95 124 149 150...</td>\n",
              "    </tr>\n",
              "    <tr>\n",
              "      <th>10</th>\n",
              "      <td>0</td>\n",
              "      <td>Training</td>\n",
              "      <td>30 24 21 23 25 25 49 67 84 103 120 125 130 139...</td>\n",
              "    </tr>\n",
              "    <tr>\n",
              "      <th>11</th>\n",
              "      <td>6</td>\n",
              "      <td>Training</td>\n",
              "      <td>39 75 78 58 58 45 49 48 103 156 81 45 41 38 49...</td>\n",
              "    </tr>\n",
              "    <tr>\n",
              "      <th>12</th>\n",
              "      <td>6</td>\n",
              "      <td>Training</td>\n",
              "      <td>219 213 206 202 209 217 216 215 219 218 223 23...</td>\n",
              "    </tr>\n",
              "    <tr>\n",
              "      <th>13</th>\n",
              "      <td>6</td>\n",
              "      <td>Training</td>\n",
              "      <td>148 144 130 129 119 122 129 131 139 153 140 12...</td>\n",
              "    </tr>\n",
              "    <tr>\n",
              "      <th>14</th>\n",
              "      <td>3</td>\n",
              "      <td>Training</td>\n",
              "      <td>4 2 13 41 56 62 67 87 95 62 65 70 80 107 127 1...</td>\n",
              "    </tr>\n",
              "    <tr>\n",
              "      <th>15</th>\n",
              "      <td>5</td>\n",
              "      <td>Training</td>\n",
              "      <td>107 107 109 109 109 109 110 101 123 140 144 14...</td>\n",
              "    </tr>\n",
              "    <tr>\n",
              "      <th>16</th>\n",
              "      <td>3</td>\n",
              "      <td>Training</td>\n",
              "      <td>14 14 18 28 27 22 21 30 42 61 77 86 88 95 100 ...</td>\n",
              "    </tr>\n",
              "    <tr>\n",
              "      <th>17</th>\n",
              "      <td>2</td>\n",
              "      <td>Training</td>\n",
              "      <td>255 255 255 255 255 255 255 255 255 255 255 25...</td>\n",
              "    </tr>\n",
              "    <tr>\n",
              "      <th>18</th>\n",
              "      <td>6</td>\n",
              "      <td>Training</td>\n",
              "      <td>134 124 167 180 197 194 203 210 204 203 209 20...</td>\n",
              "    </tr>\n",
              "    <tr>\n",
              "      <th>19</th>\n",
              "      <td>4</td>\n",
              "      <td>Training</td>\n",
              "      <td>219 192 179 148 208 254 192 98 121 103 145 185...</td>\n",
              "    </tr>\n",
              "  </tbody>\n",
              "</table>\n",
              "</div>\n",
              "    <div class=\"colab-df-buttons\">\n",
              "\n",
              "  <div class=\"colab-df-container\">\n",
              "    <button class=\"colab-df-convert\" onclick=\"convertToInteractive('df-37bde20f-c7ae-4c05-bb7d-00e12be18951')\"\n",
              "            title=\"Convert this dataframe to an interactive table.\"\n",
              "            style=\"display:none;\">\n",
              "\n",
              "  <svg xmlns=\"http://www.w3.org/2000/svg\" height=\"24px\" viewBox=\"0 -960 960 960\">\n",
              "    <path d=\"M120-120v-720h720v720H120Zm60-500h600v-160H180v160Zm220 220h160v-160H400v160Zm0 220h160v-160H400v160ZM180-400h160v-160H180v160Zm440 0h160v-160H620v160ZM180-180h160v-160H180v160Zm440 0h160v-160H620v160Z\"/>\n",
              "  </svg>\n",
              "    </button>\n",
              "\n",
              "  <style>\n",
              "    .colab-df-container {\n",
              "      display:flex;\n",
              "      gap: 12px;\n",
              "    }\n",
              "\n",
              "    .colab-df-convert {\n",
              "      background-color: #E8F0FE;\n",
              "      border: none;\n",
              "      border-radius: 50%;\n",
              "      cursor: pointer;\n",
              "      display: none;\n",
              "      fill: #1967D2;\n",
              "      height: 32px;\n",
              "      padding: 0 0 0 0;\n",
              "      width: 32px;\n",
              "    }\n",
              "\n",
              "    .colab-df-convert:hover {\n",
              "      background-color: #E2EBFA;\n",
              "      box-shadow: 0px 1px 2px rgba(60, 64, 67, 0.3), 0px 1px 3px 1px rgba(60, 64, 67, 0.15);\n",
              "      fill: #174EA6;\n",
              "    }\n",
              "\n",
              "    .colab-df-buttons div {\n",
              "      margin-bottom: 4px;\n",
              "    }\n",
              "\n",
              "    [theme=dark] .colab-df-convert {\n",
              "      background-color: #3B4455;\n",
              "      fill: #D2E3FC;\n",
              "    }\n",
              "\n",
              "    [theme=dark] .colab-df-convert:hover {\n",
              "      background-color: #434B5C;\n",
              "      box-shadow: 0px 1px 3px 1px rgba(0, 0, 0, 0.15);\n",
              "      filter: drop-shadow(0px 1px 2px rgba(0, 0, 0, 0.3));\n",
              "      fill: #FFFFFF;\n",
              "    }\n",
              "  </style>\n",
              "\n",
              "    <script>\n",
              "      const buttonEl =\n",
              "        document.querySelector('#df-37bde20f-c7ae-4c05-bb7d-00e12be18951 button.colab-df-convert');\n",
              "      buttonEl.style.display =\n",
              "        google.colab.kernel.accessAllowed ? 'block' : 'none';\n",
              "\n",
              "      async function convertToInteractive(key) {\n",
              "        const element = document.querySelector('#df-37bde20f-c7ae-4c05-bb7d-00e12be18951');\n",
              "        const dataTable =\n",
              "          await google.colab.kernel.invokeFunction('convertToInteractive',\n",
              "                                                    [key], {});\n",
              "        if (!dataTable) return;\n",
              "\n",
              "        const docLinkHtml = 'Like what you see? Visit the ' +\n",
              "          '<a target=\"_blank\" href=https://colab.research.google.com/notebooks/data_table.ipynb>data table notebook</a>'\n",
              "          + ' to learn more about interactive tables.';\n",
              "        element.innerHTML = '';\n",
              "        dataTable['output_type'] = 'display_data';\n",
              "        await google.colab.output.renderOutput(dataTable, element);\n",
              "        const docLink = document.createElement('div');\n",
              "        docLink.innerHTML = docLinkHtml;\n",
              "        element.appendChild(docLink);\n",
              "      }\n",
              "    </script>\n",
              "  </div>\n",
              "\n",
              "\n",
              "    <div id=\"df-c0fc2c0a-e8fb-4653-9a59-f4420d1968be\">\n",
              "      <button class=\"colab-df-quickchart\" onclick=\"quickchart('df-c0fc2c0a-e8fb-4653-9a59-f4420d1968be')\"\n",
              "                title=\"Suggest charts\"\n",
              "                style=\"display:none;\">\n",
              "\n",
              "<svg xmlns=\"http://www.w3.org/2000/svg\" height=\"24px\"viewBox=\"0 0 24 24\"\n",
              "     width=\"24px\">\n",
              "    <g>\n",
              "        <path d=\"M19 3H5c-1.1 0-2 .9-2 2v14c0 1.1.9 2 2 2h14c1.1 0 2-.9 2-2V5c0-1.1-.9-2-2-2zM9 17H7v-7h2v7zm4 0h-2V7h2v10zm4 0h-2v-4h2v4z\"/>\n",
              "    </g>\n",
              "</svg>\n",
              "      </button>\n",
              "\n",
              "<style>\n",
              "  .colab-df-quickchart {\n",
              "      --bg-color: #E8F0FE;\n",
              "      --fill-color: #1967D2;\n",
              "      --hover-bg-color: #E2EBFA;\n",
              "      --hover-fill-color: #174EA6;\n",
              "      --disabled-fill-color: #AAA;\n",
              "      --disabled-bg-color: #DDD;\n",
              "  }\n",
              "\n",
              "  [theme=dark] .colab-df-quickchart {\n",
              "      --bg-color: #3B4455;\n",
              "      --fill-color: #D2E3FC;\n",
              "      --hover-bg-color: #434B5C;\n",
              "      --hover-fill-color: #FFFFFF;\n",
              "      --disabled-bg-color: #3B4455;\n",
              "      --disabled-fill-color: #666;\n",
              "  }\n",
              "\n",
              "  .colab-df-quickchart {\n",
              "    background-color: var(--bg-color);\n",
              "    border: none;\n",
              "    border-radius: 50%;\n",
              "    cursor: pointer;\n",
              "    display: none;\n",
              "    fill: var(--fill-color);\n",
              "    height: 32px;\n",
              "    padding: 0;\n",
              "    width: 32px;\n",
              "  }\n",
              "\n",
              "  .colab-df-quickchart:hover {\n",
              "    background-color: var(--hover-bg-color);\n",
              "    box-shadow: 0 1px 2px rgba(60, 64, 67, 0.3), 0 1px 3px 1px rgba(60, 64, 67, 0.15);\n",
              "    fill: var(--button-hover-fill-color);\n",
              "  }\n",
              "\n",
              "  .colab-df-quickchart-complete:disabled,\n",
              "  .colab-df-quickchart-complete:disabled:hover {\n",
              "    background-color: var(--disabled-bg-color);\n",
              "    fill: var(--disabled-fill-color);\n",
              "    box-shadow: none;\n",
              "  }\n",
              "\n",
              "  .colab-df-spinner {\n",
              "    border: 2px solid var(--fill-color);\n",
              "    border-color: transparent;\n",
              "    border-bottom-color: var(--fill-color);\n",
              "    animation:\n",
              "      spin 1s steps(1) infinite;\n",
              "  }\n",
              "\n",
              "  @keyframes spin {\n",
              "    0% {\n",
              "      border-color: transparent;\n",
              "      border-bottom-color: var(--fill-color);\n",
              "      border-left-color: var(--fill-color);\n",
              "    }\n",
              "    20% {\n",
              "      border-color: transparent;\n",
              "      border-left-color: var(--fill-color);\n",
              "      border-top-color: var(--fill-color);\n",
              "    }\n",
              "    30% {\n",
              "      border-color: transparent;\n",
              "      border-left-color: var(--fill-color);\n",
              "      border-top-color: var(--fill-color);\n",
              "      border-right-color: var(--fill-color);\n",
              "    }\n",
              "    40% {\n",
              "      border-color: transparent;\n",
              "      border-right-color: var(--fill-color);\n",
              "      border-top-color: var(--fill-color);\n",
              "    }\n",
              "    60% {\n",
              "      border-color: transparent;\n",
              "      border-right-color: var(--fill-color);\n",
              "    }\n",
              "    80% {\n",
              "      border-color: transparent;\n",
              "      border-right-color: var(--fill-color);\n",
              "      border-bottom-color: var(--fill-color);\n",
              "    }\n",
              "    90% {\n",
              "      border-color: transparent;\n",
              "      border-bottom-color: var(--fill-color);\n",
              "    }\n",
              "  }\n",
              "</style>\n",
              "\n",
              "      <script>\n",
              "        async function quickchart(key) {\n",
              "          const quickchartButtonEl =\n",
              "            document.querySelector('#' + key + ' button');\n",
              "          quickchartButtonEl.disabled = true;  // To prevent multiple clicks.\n",
              "          quickchartButtonEl.classList.add('colab-df-spinner');\n",
              "          try {\n",
              "            const charts = await google.colab.kernel.invokeFunction(\n",
              "                'suggestCharts', [key], {});\n",
              "          } catch (error) {\n",
              "            console.error('Error during call to suggestCharts:', error);\n",
              "          }\n",
              "          quickchartButtonEl.classList.remove('colab-df-spinner');\n",
              "          quickchartButtonEl.classList.add('colab-df-quickchart-complete');\n",
              "        }\n",
              "        (() => {\n",
              "          let quickchartButtonEl =\n",
              "            document.querySelector('#df-c0fc2c0a-e8fb-4653-9a59-f4420d1968be button');\n",
              "          quickchartButtonEl.style.display =\n",
              "            google.colab.kernel.accessAllowed ? 'block' : 'none';\n",
              "        })();\n",
              "      </script>\n",
              "    </div>\n",
              "\n",
              "    </div>\n",
              "  </div>\n"
            ],
            "application/vnd.google.colaboratory.intrinsic+json": {
              "type": "dataframe",
              "variable_name": "df_subset",
              "summary": "{\n  \"name\": \"df_subset\",\n  \"rows\": 20,\n  \"fields\": [\n    {\n      \"column\": \"emotion\",\n      \"properties\": {\n        \"dtype\": \"number\",\n        \"std\": 2,\n        \"min\": 0,\n        \"max\": 6,\n        \"num_unique_values\": 6,\n        \"samples\": [\n          0,\n          2,\n          5\n        ],\n        \"semantic_type\": \"\",\n        \"description\": \"\"\n      }\n    },\n    {\n      \"column\": \" Usage\",\n      \"properties\": {\n        \"dtype\": \"category\",\n        \"num_unique_values\": 1,\n        \"samples\": [\n          \"Training\"\n        ],\n        \"semantic_type\": \"\",\n        \"description\": \"\"\n      }\n    },\n    {\n      \"column\": \" pixels\",\n      \"properties\": {\n        \"dtype\": \"string\",\n        \"num_unique_values\": 20,\n        \"samples\": [\n          \"70 80 82 72 58 58 60 63 54 58 60 48 89 115 121 119 115 110 98 91 84 84 90 99 110 126 143 153 158 171 169 172 169 165 129 110 113 107 95 79 66 62 56 57 61 52 43 41 65 61 58 57 56 69 75 70 65 56 54 105 146 154 151 151 155 155 150 147 147 148 152 158 164 172 177 182 186 189 188 190 188 180 167 116 95 103 97 77 72 62 55 58 54 56 52 44 50 43 54 64 63 71 68 64 52 66 119 156 161 164 163 164 167 168 170 174 175 176 178 179 183 187 190 195 197 198 197 198 195 191 190 145 86 100 90 65 57 60 54 51 41 49 56 47 38 44 63 55 46 52 54 55 83 138 157 158 165 168 172 171 173 176 179 179 180 182 185 187 189 189 192 197 200 199 196 198 200 198 197 177 91 87 96 58 58 59 51 42 37 41 47 45 37 35 36 30 41 47 59 94 141 159 161 161 164 170 171 172 176 178 179 182 183 183 187 189 192 192 194 195 200 200 199 199 200 201 197 193 111 71 108 69 55 61 51 42 43 56 54 44 24 29 31 45 61 72 100 136 150 159 163 162 163 170 172 171 174 177 177 180 187 186 187 189 192 192 194 195 196 197 199 200 201 200 197 201 137 58 98 92 57 62 53 47 41 40 51 43 24 35 52 63 75 104 129 143 149 158 162 164 166 171 173 172 174 178 178 179 187 188 188 191 193 194 195 198 199 199 197 198 197 197 197 201 164 52 78 87 69 58 56 50 54 39 44 42 26 31 49 65 91 119 134 145 147 152 159 163 167 171 170 169 174 178 178 179 187 187 185 187 190 188 187 191 197 201 199 199 200 197 196 197 182 58 62 77 61 60 55 49 59 52 54 44 22 30 47 68 102 123 136 144 148 150 153 157 167 172 173 170 171 177 179 178 186 190 186 189 196 193 191 194 190 190 192 197 201 203 199 194 189 69 48 74 56 60 57 50 59 59 51 41 20 34 47 79 111 132 139 143 145 147 150 151 160 169 172 171 167 171 177 177 174 180 182 181 192 196 189 192 198 195 194 196 198 201 202 195 189 70 39 69 61 61 61 53 59 59 45 40 26 40 61 93 124 135 138 142 144 146 151 152 158 165 168 168 165 161 164 173 172 167 172 167 180 198 198 193 199 195 194 198 200 198 197 195 190 65 35 68 59 59 62 57 60 59 50 44 32 54 90 115 132 137 138 140 144 146 146 156 165 168 174 176 176 175 168 168 169 171 175 171 172 192 194 184 198 205 201 194 195 193 195 192 186 57 38 72 65 57 62 58 57 60 54 49 47 79 116 130 138 141 141 139 141 143 145 157 164 164 166 173 174 176 179 179 176 181 189 188 173 180 175 160 182 189 198 192 189 190 190 188 172 46 44 64 66 59 62 57 56 62 53 50 66 103 133 137 141 143 141 136 132 131 136 127 118 111 107 108 123 131 143 154 158 166 177 181 175 170 159 148 171 161 176 185 192 194 188 190 162 53 49 58 63 61 61 55 56 61 51 50 81 116 139 142 142 146 144 136 128 119 112 97 85 90 91 88 92 90 80 81 84 106 122 132 144 145 144 147 163 147 163 173 181 190 187 191 167 61 48 53 61 61 58 54 56 61 51 53 89 123 140 144 145 146 147 136 122 107 99 95 92 90 87 83 76 67 52 46 52 63 69 83 96 119 132 148 159 136 137 143 138 143 152 156 156 70 48 50 59 61 57 54 54 61 52 56 93 124 135 140 144 148 150 140 125 114 101 80 54 56 54 41 41 33 40 39 35 49 60 63 74 107 129 147 147 116 111 100 77 76 86 108 111 73 49 50 60 62 60 57 55 63 59 56 89 121 134 139 146 151 152 150 141 127 111 96 77 85 70 32 31 37 91 65 50 48 59 73 83 112 136 155 130 60 46 38 40 43 81 116 91 72 52 48 58 62 62 59 53 61 59 52 85 114 134 140 147 154 159 158 153 145 143 150 126 121 125 68 45 89 137 95 70 78 75 95 109 131 153 171 94 23 16 32 82 82 65 113 77 71 54 48 56 62 62 60 53 60 56 52 75 108 133 141 149 158 166 169 167 163 156 155 146 112 119 134 127 142 140 121 117 129 114 120 129 146 174 191 98 46 33 33 109 147 98 109 67 73 55 50 56 64 64 61 58 61 53 54 64 106 129 140 148 159 169 175 176 174 165 159 156 145 120 115 124 127 131 133 141 147 142 141 147 161 182 202 154 114 96 100 158 158 153 123 61 76 57 48 56 64 64 63 62 61 54 55 44 97 131 137 147 158 168 177 181 183 179 170 168 169 165 155 152 151 152 154 162 165 158 153 158 168 187 206 186 147 135 144 145 152 178 115 57 74 58 48 58 64 63 63 59 63 55 53 66 104 130 132 144 153 162 170 180 185 187 181 178 182 180 177 173 171 171 177 176 172 164 161 167 164 185 207 197 173 152 141 141 161 191 104 54 69 60 48 57 65 62 60 57 64 55 50 94 111 124 130 135 150 159 163 172 179 184 184 178 178 177 173 171 174 177 178 176 169 165 161 163 161 180 205 201 183 171 177 178 180 194 101 55 65 60 47 55 65 63 59 58 63 57 52 90 105 117 122 130 143 153 157 163 171 174 182 183 182 178 174 175 175 177 175 172 163 161 159 157 162 178 200 201 188 181 172 177 187 198 98 57 63 61 48 52 61 64 63 60 65 57 51 95 104 113 117 127 136 145 152 156 162 162 165 173 177 182 183 183 180 181 177 165 153 154 152 153 160 174 193 200 188 185 180 182 192 196 101 60 60 56 49 50 60 66 64 62 64 59 53 99 104 111 112 118 132 142 147 155 158 160 159 162 171 176 184 186 183 180 169 154 141 135 145 155 164 180 196 205 188 189 188 189 193 192 98 61 64 55 49 49 60 66 63 64 63 60 57 99 105 108 112 113 125 139 143 150 155 158 164 169 174 176 182 183 182 177 163 141 133 147 151 164 170 185 200 210 194 188 192 186 185 180 88 64 67 60 46 50 59 65 64 64 64 59 56 101 103 108 109 109 118 134 143 143 147 155 159 166 171 174 177 179 178 172 153 129 143 161 159 166 171 186 197 207 203 185 191 183 179 164 73 67 67 66 48 50 57 65 65 63 64 61 57 103 108 114 112 110 115 128 138 144 145 152 156 159 164 168 172 172 169 161 139 125 147 156 161 162 164 180 188 188 197 185 187 181 180 137 65 70 68 70 52 47 53 62 65 63 65 61 58 105 109 112 120 113 112 122 134 141 149 150 153 155 159 164 167 167 162 152 134 115 126 119 106 99 109 141 158 150 155 175 184 176 175 106 63 70 68 68 50 46 50 57 63 63 64 61 59 107 110 110 117 117 114 117 128 137 147 148 150 153 156 161 162 163 156 150 148 105 70 45 26 25 47 73 74 79 128 177 180 173 157 77 66 68 67 68 52 49 51 56 62 62 62 62 60 101 107 108 114 115 114 117 125 134 143 148 149 152 154 158 160 158 155 160 158 132 88 73 73 64 52 66 91 138 160 174 173 171 125 64 67 63 64 68 54 50 49 54 60 60 60 62 60 98 105 105 109 111 114 117 125 131 139 145 148 153 153 156 157 156 161 168 165 153 139 122 115 105 89 103 150 182 161 171 173 162 89 64 64 62 64 69 56 48 49 56 58 60 59 62 60 89 99 108 106 109 111 119 120 125 134 140 146 152 153 153 153 156 159 162 160 150 136 129 133 133 122 133 148 178 168 168 175 132 61 67 66 65 63 69 57 47 50 55 58 59 61 62 60 89 96 105 107 105 107 117 120 123 124 133 141 149 153 151 145 151 145 139 140 138 128 126 124 129 125 136 142 164 172 168 168 87 58 67 63 62 61 69 57 39 44 55 56 59 63 62 62 84 91 92 98 102 103 113 119 121 118 128 138 146 151 147 142 140 128 127 128 129 126 135 140 135 130 143 146 149 166 174 131 62 65 62 59 67 63 68 83 89 65 42 52 60 60 62 63 77 84 84 91 99 101 107 112 117 118 122 134 145 149 144 134 127 127 129 130 134 125 126 132 152 153 151 150 151 165 171 87 59 65 64 61 58 86 122 138 208 207 154 71 52 56 55 56 69 77 83 85 93 91 102 112 116 118 119 127 140 144 142 131 112 95 85 75 62 58 56 59 87 88 83 127 142 165 149 62 65 62 59 77 113 192 156 84 185 196 197 168 81 70 75 69 58 65 73 82 81 79 95 107 114 116 116 123 136 142 136 132 131 102 71 58 49 41 33 41 36 49 60 99 136 168 111 53 63 71 138 186 203 195 146 87 91 72 79 95 103 82 61 74 55 57 68 75 76 77 84 96 106 110 111 121 130 138 136 142 153 159 152 152 154 145 133 136 147 158 156 155 147 158 74 57 60 123 181 174 126 89 72 67 57 43 55 67 76 86 60 45 51 45 52 68 75 73 77 88 96 100 104 113 115 121 134 146 149 146 149 148 155 168 174 179 178 169 169 174 161 131 44 47 82 150 168 136 104 75 66 80 67 58 48 54 68 88 121 102 51 45 38 53 66 65 70 86 92 96 102 103 109 116 130 136 136 133 136 138 137 135 128 130 143 158 165 164 147 87 62 74 123 160 170 100 99 107 79 71 86 75 57 45 49 65 122 130 43 48 40 39 55 61 59 71 82 87 88 93 105 118 123 128 130 124 111 98 94 88 67 55 84 129 147 148 105 48 82 142 161 164 164 76 72 85 100 88 72 90 84 54 48 54 73 100 73 36 44 31 37 53 51 55 67 74 77 87 97 108 118 125 132 122 106 86 80 82 75 73 83 110 129 126 46 22 130 177 196 193 166 72 52 54 73 100 92 75 99 95 65 68 61 63 91 65 42 37 22 28 39 44 57 68 74 83 92 101 119 131 143 141 134 136 140 139 134 136 139 138 136 85 23 114 202 198 199 180 173 98 36 86 130 150 137 99 77 101 99 72 56 43 77 82 79 70 56 28 20 25 36 50 63 73 83 98 111 124 139 156 160 159 169 168 165 163 159 149 114 43 26 133 183 192 177 152 137 130 125 139 173 195 186 137 101 88 101 105 70 46 77 72 84 87 87 81 64 37 20 31 40 46 65 88 108 110 125 149 157 153 162 164 158 159 154 140 78 21 11 61 144 168 173 157 138 150 148 132 159 182 183 136 106 116 95 106 109 82\"\n        ],\n        \"semantic_type\": \"\",\n        \"description\": \"\"\n      }\n    }\n  ]\n}"
            }
          },
          "metadata": {},
          "execution_count": 20
        }
      ]
    },
    {
      "cell_type": "code",
      "source": [
        "df_train_subset, df_val_subset = train_test_split(\n",
        "    df_subset,\n",
        "    test_size=0.2,\n",
        "    random_state=42)"
      ],
      "metadata": {
        "id": "cjg_i9b2Up_n"
      },
      "execution_count": 42,
      "outputs": []
    },
    {
      "cell_type": "code",
      "source": [
        "print(f\"Training subset size: {len(df_train_subset)}\")\n",
        "print(f\"Validation subset size: {len(df_val_subset)}\")"
      ],
      "metadata": {
        "colab": {
          "base_uri": "https://localhost:8080/"
        },
        "id": "VGcz4de316tk",
        "outputId": "b494264b-401f-4b2d-aa30-0da5d815dade"
      },
      "execution_count": 22,
      "outputs": [
        {
          "output_type": "stream",
          "name": "stdout",
          "text": [
            "Training subset size: 16\n",
            "Validation subset size: 4\n"
          ]
        }
      ]
    },
    {
      "cell_type": "code",
      "source": [
        "class EmotionRecognitionDataset(Dataset):\n",
        "    def __init__(self, df, transform=None):\n",
        "        self.pixels = df[' pixels'].apply(lambda x: np.array(x.split(' '), dtype='float32').reshape(48, 48)).tolist()\n",
        "        print(f\"len(self.pixels): {len(self.pixels)}\")\n",
        "        self.emotions = df['emotion'].tolist()\n",
        "        self.transform = transform\n",
        "\n",
        "    def __len__(self):\n",
        "        return len(self.pixels)\n",
        "\n",
        "    def __getitem__(self, idx):\n",
        "        image = self.pixels[idx]\n",
        "        emotion = self.emotions[idx]\n",
        "\n",
        "        image = image / 255.0\n",
        "        image = torch.from_numpy(image).float().unsqueeze(0)\n",
        "\n",
        "        if self.transform:\n",
        "            image = self.transform(image)\n",
        "\n",
        "        emotion = torch.tensor(emotion, dtype=torch.long)\n",
        "        return image, emotion"
      ],
      "metadata": {
        "id": "cymYCTvt2GJu"
      },
      "execution_count": 24,
      "outputs": []
    },
    {
      "cell_type": "code",
      "source": [
        "transform = transforms.Compose([\n",
        "    transforms.Normalize(mean=[0.5], std=[0.5])\n",
        "])"
      ],
      "metadata": {
        "id": "XeIB7Xuu2dut"
      },
      "execution_count": 43,
      "outputs": []
    },
    {
      "cell_type": "code",
      "source": [
        "train_dataset_subset = EmotionRecognitionDataset(df_train_subset, transform=transform)\n",
        "val_dataset_subset = EmotionRecognitionDataset(df_val_subset, transform=transform)"
      ],
      "metadata": {
        "colab": {
          "base_uri": "https://localhost:8080/"
        },
        "id": "MxYkH5Gi3Kla",
        "outputId": "4aa506f8-b08a-4390-af3b-cebcf7e432f7"
      },
      "execution_count": 44,
      "outputs": [
        {
          "output_type": "stream",
          "name": "stdout",
          "text": [
            "len(self.pixels): 16\n",
            "len(self.pixels): 4\n"
          ]
        }
      ]
    },
    {
      "cell_type": "code",
      "source": [
        "batch_size = 4\n",
        "train_loader_subset = DataLoader(train_dataset_subset, batch_size=batch_size, shuffle=True)\n",
        "val_loader_subset = DataLoader(val_dataset_subset, batch_size=batch_size, shuffle=False)"
      ],
      "metadata": {
        "id": "Jrhek2jg9j4j"
      },
      "execution_count": 45,
      "outputs": []
    },
    {
      "cell_type": "code",
      "source": [
        "print(\"\\nVerifying data loading (subset) with corrected normalization:\")\n",
        "for images, labels in train_loader_subset:\n",
        "    print(f\"Batch images shape: {images.shape}\")\n",
        "    print(f\"Batch labels shape: {labels.shape}\")\n",
        "\n",
        "    plt.figure(figsize=(10, 2))\n",
        "    for i in range(min(4, images.shape[0])):\n",
        "        plt.subplot(1, 4, i+1)\n",
        "        img_display = images[i].squeeze().numpy() * 0.5 + 0.5\n",
        "        plt.imshow(img_display, cmap='gray')\n",
        "        plt.title(f\"Emotion: {labels[i].item()}\")\n",
        "        plt.axis('off')\n",
        "    plt.show()\n",
        "    break"
      ],
      "metadata": {
        "colab": {
          "base_uri": "https://localhost:8080/",
          "height": 284
        },
        "id": "XbZLLaE-54fA",
        "outputId": "5c3f568e-3e1b-4c1d-aaf3-9bb000f251c1"
      },
      "execution_count": 28,
      "outputs": [
        {
          "output_type": "stream",
          "name": "stdout",
          "text": [
            "\n",
            "Verifying data loading (subset) with corrected normalization:\n",
            "Batch images shape: torch.Size([4, 1, 48, 48])\n",
            "Batch labels shape: torch.Size([4])\n"
          ]
        },
        {
          "output_type": "display_data",
          "data": {
            "text/plain": [
              "<Figure size 1000x200 with 4 Axes>"
            ],
            "image/png": "[encoded data removed]"
          },
          "metadata": {}
        }
      ]
    },
    {
      "cell_type": "code",
      "source": [
        "class SimpleCNN(nn.Module):\n",
        "    def __init__(self, num_classes=7):\n",
        "        super(SimpleCNN, self).__init__()\n",
        "        self.conv1 = nn.Conv2d(1, 32, kernel_size=3, padding=1)\n",
        "        self.relu1 = nn.ReLU()\n",
        "        self.pool1 = nn.MaxPool2d(kernel_size=2, stride=2)\n",
        "\n",
        "        self.conv2 = nn.Conv2d(32, 64, kernel_size=3, padding=1)\n",
        "        self.relu2 = nn.ReLU()\n",
        "        self.pool2 = nn.MaxPool2d(kernel_size=2, stride=2)\n",
        "\n",
        "        self.fc1_input_features = 64 * (48 // 4) * (48 // 4)\n",
        "        self.fc1 = nn.Linear(self.fc1_input_features, 128)\n",
        "        self.relu3 = nn.ReLU()\n",
        "        self.dropout = nn.Dropout(0.5)\n",
        "        self.fc2 = nn.Linear(128, num_classes)\n",
        "\n",
        "    def forward(self, x):\n",
        "        x = self.pool1(self.relu1(self.conv1(x)))\n",
        "        x = self.pool2(self.relu2(self.conv2(x)))\n",
        "        x = x.view(-1, self.fc1_input_features)\n",
        "        x = self.relu3(self.fc1(x))\n",
        "        x = self.dropout(x)\n",
        "        x = self.fc2(x)\n",
        "        return x"
      ],
      "metadata": {
        "id": "XVkEc5Ov-FE1"
      },
      "execution_count": 29,
      "outputs": []
    },
    {
      "cell_type": "code",
      "source": [
        "model_cnn = SimpleCNN(num_classes=7).to(device)\n",
        "\n",
        "criterion = nn.CrossEntropyLoss()\n",
        "optimizer_cnn = optim.Adam(model_cnn.parameters(), lr=0.001)"
      ],
      "metadata": {
        "id": "z4XGlueICuuq"
      },
      "execution_count": 46,
      "outputs": []
    },
    {
      "cell_type": "code",
      "source": [
        "def train_model(model, train_loader, val_loader, criterion, optimizer, num_epochs=20):\n",
        "    train_losses = []\n",
        "    val_losses = []\n",
        "    train_accuracies = []\n",
        "    val_accuracies = []\n",
        "\n",
        "    print(f\"\\n--- Training {model.__class__.__name__} on subset ---\")\n",
        "    for epoch in range(num_epochs):\n",
        "        model.train()\n",
        "        running_loss = 0.0\n",
        "        correct_train = 0\n",
        "        total_train = 0\n",
        "        for images, labels in train_loader:\n",
        "            images, labels = images.to(device), labels.to(device)\n",
        "\n",
        "            optimizer.zero_grad()\n",
        "            outputs = model(images)\n",
        "            loss = criterion(outputs, labels)\n",
        "            loss.backward()\n",
        "            optimizer.step()\n",
        "\n",
        "            running_loss += loss.item() * images.size(0)\n",
        "            _, predicted = torch.max(outputs.data, 1)\n",
        "            total_train += labels.size(0)\n",
        "            correct_train += (predicted == labels).sum().item()\n",
        "\n",
        "        epoch_train_loss = running_loss / len(train_loader.dataset)\n",
        "        epoch_train_accuracy = correct_train / total_train\n",
        "        train_losses.append(epoch_train_loss)\n",
        "        train_accuracies.append(epoch_train_accuracy)\n",
        "\n",
        "\n",
        "        model.eval()\n",
        "        val_loss = 0.0\n",
        "        correct_val = 0\n",
        "        total_val = 0\n",
        "        with torch.no_grad():\n",
        "            for images, labels in val_loader:\n",
        "                images, labels = images.to(device), labels.to(device)\n",
        "                outputs = model(images)\n",
        "                loss = criterion(outputs, labels)\n",
        "\n",
        "                val_loss += loss.item() * images.size(0)\n",
        "                _, predicted = torch.max(outputs.data, 1)\n",
        "                total_val += labels.size(0)\n",
        "                correct_val += (predicted == labels).sum().item()\n",
        "\n",
        "        epoch_val_loss = val_loss / len(val_loader.dataset)\n",
        "        epoch_val_accuracy = correct_val / total_val\n",
        "        val_losses.append(epoch_val_loss)\n",
        "        val_accuracies.append(epoch_val_accuracy)\n",
        "\n",
        "        if num_epochs <= 20:\n",
        "            print(f'Epoch [{epoch+1}/{num_epochs}], '\n",
        "                  f'Train Loss: {epoch_train_loss:.4f}, Train Acc: {epoch_train_accuracy:.4f}, '\n",
        "                  f'Val Loss: {epoch_val_loss:.4f}, Val Acc: {epoch_val_accuracy:.4f}')\n",
        "\n",
        "    return train_losses, val_losses, train_accuracies, val_accuracies"
      ],
      "metadata": {
        "id": "C-ZIWCd4GNFS"
      },
      "execution_count": 31,
      "outputs": []
    },
    {
      "cell_type": "code",
      "source": [
        "history_cnn = train_model(model_cnn, train_loader_subset, val_loader_subset, criterion, optimizer_cnn, num_epochs=20)\n",
        "train_losses_cnn, val_losses_cnn, train_accuracies_cnn, val_accuracies_cnn = history_cnn"
      ],
      "metadata": {
        "colab": {
          "base_uri": "https://localhost:8080/"
        },
        "id": "7PUE9jIjGO9s",
        "outputId": "eb97675f-212b-400e-bac8-e1767da9be02"
      },
      "execution_count": 47,
      "outputs": [
        {
          "output_type": "stream",
          "name": "stdout",
          "text": [
            "\n",
            "--- Training SimpleCNN on subset ---\n",
            "Epoch [1/20], Train Loss: 2.0844, Train Acc: 0.1250, Val Loss: 2.2829, Val Acc: 0.0000\n",
            "Epoch [2/20], Train Loss: 1.4909, Train Acc: 0.3750, Val Loss: 2.6323, Val Acc: 0.0000\n",
            "Epoch [3/20], Train Loss: 1.5322, Train Acc: 0.4375, Val Loss: 2.4929, Val Acc: 0.0000\n",
            "Epoch [4/20], Train Loss: 1.1697, Train Acc: 0.7500, Val Loss: 2.4876, Val Acc: 0.0000\n",
            "Epoch [5/20], Train Loss: 1.1068, Train Acc: 0.5625, Val Loss: 2.6588, Val Acc: 0.0000\n",
            "Epoch [6/20], Train Loss: 0.8162, Train Acc: 0.6875, Val Loss: 2.9283, Val Acc: 0.0000\n",
            "Epoch [7/20], Train Loss: 0.6880, Train Acc: 0.7500, Val Loss: 2.9225, Val Acc: 0.0000\n",
            "Epoch [8/20], Train Loss: 0.4188, Train Acc: 0.9375, Val Loss: 2.9520, Val Acc: 0.0000\n",
            "Epoch [9/20], Train Loss: 0.3011, Train Acc: 1.0000, Val Loss: 3.4793, Val Acc: 0.0000\n",
            "Epoch [10/20], Train Loss: 0.4335, Train Acc: 0.8125, Val Loss: 3.9140, Val Acc: 0.0000\n",
            "Epoch [11/20], Train Loss: 0.3434, Train Acc: 0.9375, Val Loss: 3.8037, Val Acc: 0.0000\n",
            "Epoch [12/20], Train Loss: 0.2466, Train Acc: 0.9375, Val Loss: 3.7267, Val Acc: 0.0000\n",
            "Epoch [13/20], Train Loss: 0.1334, Train Acc: 0.9375, Val Loss: 3.8421, Val Acc: 0.0000\n",
            "Epoch [14/20], Train Loss: 0.1832, Train Acc: 0.9375, Val Loss: 3.9884, Val Acc: 0.2500\n",
            "Epoch [15/20], Train Loss: 0.2876, Train Acc: 0.9375, Val Loss: 4.2249, Val Acc: 0.2500\n",
            "Epoch [16/20], Train Loss: 0.2298, Train Acc: 0.9375, Val Loss: 4.3667, Val Acc: 0.2500\n",
            "Epoch [17/20], Train Loss: 0.1799, Train Acc: 0.9375, Val Loss: 4.2448, Val Acc: 0.2500\n",
            "Epoch [18/20], Train Loss: 0.0627, Train Acc: 1.0000, Val Loss: 4.2549, Val Acc: 0.0000\n",
            "Epoch [19/20], Train Loss: 0.2588, Train Acc: 0.9375, Val Loss: 4.0400, Val Acc: 0.0000\n",
            "Epoch [20/20], Train Loss: 0.0430, Train Acc: 1.0000, Val Loss: 3.9773, Val Acc: 0.0000\n"
          ]
        }
      ]
    },
    {
      "cell_type": "code",
      "source": [
        "plt.figure(figsize=(12, 4))\n",
        "plt.subplot(1, 2, 1)\n",
        "plt.plot(train_accuracies_cnn, label='Train Accuracy')\n",
        "plt.plot(val_accuracies_cnn, label='Val Accuracy')\n",
        "plt.title('Model 1: CNN Accuracy on Subset')\n",
        "plt.xlabel('Epoch')\n",
        "plt.ylabel('Accuracy')\n",
        "plt.legend()\n",
        "\n",
        "plt.subplot(1, 2, 2)\n",
        "plt.plot(train_losses_cnn, label='Train Loss')\n",
        "plt.plot(val_losses_cnn, label='Val Loss')\n",
        "plt.title('Model 1: CNN Loss on Subset')\n",
        "plt.xlabel('Epoch')\n",
        "plt.ylabel('Loss')\n",
        "plt.legend()\n",
        "plt.show()"
      ],
      "metadata": {
        "colab": {
          "base_uri": "https://localhost:8080/",
          "height": 410
        },
        "id": "4aaL4q1OGZEj",
        "outputId": "e1771fe6-03fe-4ecb-dc00-16adab93e892"
      },
      "execution_count": 48,
      "outputs": [
        {
          "output_type": "display_data",
          "data": {
            "text/plain": [
              "<Figure size 1200x400 with 2 Axes>"
            ],
            "image/png": "[encoded data removed]"
          },
          "metadata": {}
        }
      ]
    },
    {
      "cell_type": "code",
      "source": [
        "model_cnn.eval()\n",
        "all_preds_cnn = []\n",
        "all_labels_cnn = []\n",
        "with torch.no_grad():\n",
        "    for images, labels in val_loader_subset:\n",
        "        images, labels = images.to(device), labels.to(device)\n",
        "        outputs = model_cnn(images)\n",
        "        _, predicted = torch.max(outputs.data, 1)\n",
        "        all_preds_cnn.extend(predicted.cpu().numpy().tolist())\n",
        "        all_labels_cnn.extend(labels.cpu().numpy().tolist())\n",
        "\n",
        "\n",
        "final_val_accuracy_cnn = accuracy_score(all_labels_cnn, all_preds_cnn)\n",
        "print(f\"Model 1 (CNN) - Final Validation Accuracy on subset: {final_val_accuracy_cnn:.4f}\")\n",
        "print(f\"True labels (Val subset): {all_labels_cnn}\")\n",
        "print(f\"Predicted labels (Val subset): {all_preds_cnn}\")"
      ],
      "metadata": {
        "colab": {
          "base_uri": "https://localhost:8080/"
        },
        "id": "fN9lPYm4GpYx",
        "outputId": "ab0984c2-bfb4-4e62-e808-fd7d54f759ac"
      },
      "execution_count": 49,
      "outputs": [
        {
          "output_type": "stream",
          "name": "stdout",
          "text": [
            "Model 1 (CNN) - Final Validation Accuracy on subset: 0.0000\n",
            "True labels (Val subset): [0, 2, 5, 0]\n",
            "Predicted labels (Val subset): [2, 4, 2, 2]\n"
          ]
        }
      ]
    },
    {
      "cell_type": "code",
      "source": [
        "class DeeperCNN(nn.Module):\n",
        "    def __init__(self, num_classes=7):\n",
        "        super(DeeperCNN, self).__init__()\n",
        "        self.conv1 = nn.Conv2d(1, 32, kernel_size=3, padding=1)\n",
        "        self.pool1 = nn.MaxPool2d(kernel_size=2, stride=2)\n",
        "\n",
        "        self.conv2 = nn.Conv2d(32, 64, kernel_size=3, padding=1)\n",
        "        self.pool2 = nn.MaxPool2d(kernel_size=2, stride=2)\n",
        "\n",
        "        self.conv3 = nn.Conv2d(64, 128, kernel_size=3, padding=1)\n",
        "        self.pool3 = nn.MaxPool2d(kernel_size=2, stride=2)\n",
        "\n",
        "        self.fc1_input_features = 128 * (48 // 8) * (48 // 8)\n",
        "        self.fc1 = nn.Linear(self.fc1_input_features, 256)\n",
        "        self.dropout = nn.Dropout(0.5)\n",
        "        self.fc2 = nn.Linear(256, num_classes)\n",
        "\n",
        "    def forward(self, x):\n",
        "        x = self.pool1(torch.relu(self.conv1(x)))\n",
        "        x = self.pool2(torch.relu(self.conv2(x)))\n",
        "        x = self.pool3(torch.relu(self.conv3(x)))\n",
        "        x = x.view(-1, self.fc1_input_features)\n",
        "        x = torch.relu(self.fc1(x))\n",
        "        x = self.dropout(x)\n",
        "        x = self.fc2(x)\n",
        "        return x"
      ],
      "metadata": {
        "id": "zy2jWAlXG1AU"
      },
      "execution_count": 50,
      "outputs": []
    },
    {
      "cell_type": "code",
      "source": [
        "model_deeper_cnn = DeeperCNN(num_classes=7).to(device)\n",
        "optimizer_deeper_cnn = optim.Adam(model_deeper_cnn.parameters(), lr=0.001)\n",
        "\n",
        "history_deeper_cnn = train_model(model_deeper_cnn, train_loader_subset, val_loader_subset, criterion, optimizer_deeper_cnn, num_epochs=20)\n",
        "train_losses_deeper_cnn, val_losses_deeper_cnn, train_accuracies_deeper_cnn, val_accuracies_deeper_cnn = history_deeper_cnn"
      ],
      "metadata": {
        "colab": {
          "base_uri": "https://localhost:8080/"
        },
        "id": "v1lG8jgjh7qN",
        "outputId": "39f18bc0-df9c-4fae-bac4-c41c40ffe408"
      },
      "execution_count": 33,
      "outputs": [
        {
          "output_type": "stream",
          "name": "stdout",
          "text": [
            "\n",
            "--- Training DeeperCNN on subset ---\n",
            "Epoch [1/20], Train Loss: 1.9775, Train Acc: 0.1250, Val Loss: 2.1259, Val Acc: 0.0000\n",
            "Epoch [2/20], Train Loss: 1.7433, Train Acc: 0.2500, Val Loss: 2.6033, Val Acc: 0.0000\n",
            "Epoch [3/20], Train Loss: 1.5266, Train Acc: 0.1875, Val Loss: 3.2121, Val Acc: 0.0000\n",
            "Epoch [4/20], Train Loss: 1.6378, Train Acc: 0.4375, Val Loss: 2.8646, Val Acc: 0.0000\n",
            "Epoch [5/20], Train Loss: 1.5450, Train Acc: 0.2500, Val Loss: 2.1491, Val Acc: 0.2500\n",
            "Epoch [6/20], Train Loss: 1.3940, Train Acc: 0.6875, Val Loss: 2.3895, Val Acc: 0.2500\n",
            "Epoch [7/20], Train Loss: 1.0932, Train Acc: 0.6875, Val Loss: 3.4451, Val Acc: 0.0000\n",
            "Epoch [8/20], Train Loss: 1.1896, Train Acc: 0.6250, Val Loss: 3.3731, Val Acc: 0.0000\n",
            "Epoch [9/20], Train Loss: 0.7554, Train Acc: 0.6875, Val Loss: 2.5796, Val Acc: 0.0000\n",
            "Epoch [10/20], Train Loss: 0.7520, Train Acc: 0.8750, Val Loss: 2.7047, Val Acc: 0.0000\n",
            "Epoch [11/20], Train Loss: 0.6081, Train Acc: 0.8125, Val Loss: 2.9152, Val Acc: 0.0000\n",
            "Epoch [12/20], Train Loss: 0.5069, Train Acc: 0.7500, Val Loss: 3.3638, Val Acc: 0.2500\n",
            "Epoch [13/20], Train Loss: 0.4991, Train Acc: 0.8125, Val Loss: 4.1195, Val Acc: 0.0000\n",
            "Epoch [14/20], Train Loss: 0.2268, Train Acc: 0.9375, Val Loss: 4.3578, Val Acc: 0.0000\n",
            "Epoch [15/20], Train Loss: 0.4085, Train Acc: 0.8750, Val Loss: 4.1903, Val Acc: 0.2500\n",
            "Epoch [16/20], Train Loss: 0.1390, Train Acc: 1.0000, Val Loss: 4.2757, Val Acc: 0.2500\n",
            "Epoch [17/20], Train Loss: 0.1687, Train Acc: 1.0000, Val Loss: 4.2819, Val Acc: 0.2500\n",
            "Epoch [18/20], Train Loss: 0.0850, Train Acc: 1.0000, Val Loss: 4.3346, Val Acc: 0.2500\n",
            "Epoch [19/20], Train Loss: 0.1187, Train Acc: 1.0000, Val Loss: 4.9871, Val Acc: 0.2500\n",
            "Epoch [20/20], Train Loss: 0.0773, Train Acc: 1.0000, Val Loss: 5.8073, Val Acc: 0.2500\n"
          ]
        }
      ]
    },
    {
      "cell_type": "code",
      "source": [
        "plt.figure(figsize=(12, 4))\n",
        "plt.subplot(1, 2, 1)\n",
        "plt.plot(train_accuracies_deeper_cnn, label='Train Accuracy')\n",
        "plt.plot(val_accuracies_deeper_cnn, label='Val Accuracy')\n",
        "plt.title('Model 2: Deeper CNN Accuracy on Subset')\n",
        "plt.xlabel('Epoch')\n",
        "plt.ylabel('Accuracy')\n",
        "plt.legend()\n",
        "\n",
        "plt.subplot(1, 2, 2)\n",
        "plt.plot(train_losses_deeper_cnn, label='Train Loss')\n",
        "plt.plot(val_losses_deeper_cnn, label='Val Loss')\n",
        "plt.title('Model 2: Deeper CNN Loss on Subset')\n",
        "plt.xlabel('Epoch')\n",
        "plt.ylabel('Loss')\n",
        "plt.legend()\n",
        "plt.show()"
      ],
      "metadata": {
        "colab": {
          "base_uri": "https://localhost:8080/",
          "height": 410
        },
        "id": "Drks9BsciGtO",
        "outputId": "ef0908cb-b3b6-4fe6-dbea-39cd39a48759"
      },
      "execution_count": 34,
      "outputs": [
        {
          "output_type": "display_data",
          "data": {
            "text/plain": [
              "<Figure size 1200x400 with 2 Axes>"
            ],
            "image/png": "[encoded data removed]"
          },
          "metadata": {}
        }
      ]
    },
    {
      "cell_type": "code",
      "source": [
        "model_deeper_cnn.eval()\n",
        "all_preds_deeper_cnn = []\n",
        "all_labels_deeper_cnn = []\n",
        "with torch.no_grad():\n",
        "    for images, labels in val_loader_subset:\n",
        "        images, labels = images.to(device), labels.to(device)\n",
        "        outputs = model_deeper_cnn(images)\n",
        "        _, predicted = torch.max(outputs.data, 1)\n",
        "        all_preds_deeper_cnn.extend(predicted.cpu().numpy().tolist())\n",
        "        all_labels_deeper_cnn.extend(labels.cpu().numpy().tolist())\n",
        "\n",
        "final_val_accuracy_deeper_cnn = accuracy_score(all_labels_deeper_cnn, all_preds_deeper_cnn)\n",
        "print(f\"Model 2 (Deeper CNN) - Final Validation Accuracy on subset: {final_val_accuracy_deeper_cnn:.4f}\")\n",
        "print(f\"True labels (Val subset): {all_labels_deeper_cnn}\")\n",
        "print(f\"Predicted labels (Val subset): {all_preds_deeper_cnn}\")"
      ],
      "metadata": {
        "colab": {
          "base_uri": "https://localhost:8080/"
        },
        "id": "eBm0UG2WidO8",
        "outputId": "e5dc39b3-3163-4867-f0c4-084ef380940b"
      },
      "execution_count": 35,
      "outputs": [
        {
          "output_type": "stream",
          "name": "stdout",
          "text": [
            "Model 2 (Deeper CNN) - Final Validation Accuracy on subset: 0.2500\n",
            "True labels (Val subset): [0, 2, 5, 0]\n",
            "Predicted labels (Val subset): [3, 6, 3, 0]\n"
          ]
        }
      ]
    },
    {
      "cell_type": "code",
      "source": [
        "train_transform = transforms.Compose([\n",
        "    transforms.RandomHorizontalFlip(),\n",
        "    transforms.RandomRotation(10),\n",
        "    transforms.Normalize(mean=[0.5], std=[0.5])\n",
        "])\n",
        "\n",
        "val_test_transform = transforms.Compose([\n",
        "    transforms.Normalize(mean=[0.5], std=[0.5])\n",
        "])"
      ],
      "metadata": {
        "id": "n8CcMbWOsu6M"
      },
      "execution_count": 52,
      "outputs": []
    },
    {
      "cell_type": "code",
      "source": [
        "# subset_size_for_train = 1000\n",
        "# subset_size_for_val = 700\n",
        "train_dataset = EmotionRecognitionDataset(X_train, transform=train_transform)\n",
        "val_dataset = EmotionRecognitionDataset(X_val, transform=val_test_transform)\n",
        "test_dataset = EmotionRecognitionDataset(X_test, transform=val_test_transform)"
      ],
      "metadata": {
        "colab": {
          "base_uri": "https://localhost:8080/"
        },
        "id": "5j6cyVFWs0nC",
        "outputId": "624a8c38-4d19-4300-a95b-903ef71e7942"
      },
      "execution_count": 53,
      "outputs": [
        {
          "output_type": "stream",
          "name": "stdout",
          "text": [
            "len(self.pixels): 28709\n",
            "len(self.pixels): 3589\n",
            "len(self.pixels): 3589\n"
          ]
        }
      ]
    },
    {
      "cell_type": "code",
      "source": [
        "batch_size = 64\n",
        "train_loader = DataLoader(train_dataset, batch_size=batch_size, shuffle=True, num_workers=2)\n",
        "val_loader = DataLoader(val_dataset, batch_size=batch_size, shuffle=False, num_workers=2)\n",
        "test_loader = DataLoader(test_dataset, batch_size=batch_size, shuffle=False, num_workers=2)"
      ],
      "metadata": {
        "id": "I6aBlhBvtHwe"
      },
      "execution_count": 54,
      "outputs": []
    },
    {
      "cell_type": "code",
      "source": [
        "print(\"\\nVerifying data loading (full dataset batch):\")\n",
        "for images, labels in train_loader:\n",
        "    print(f\"Batch images shape: {images.shape}\")\n",
        "    print(f\"Batch labels shape: {labels.shape}\")\n",
        "    plt.figure(figsize=(10, 2))\n",
        "    for i in range(min(4, images.shape[0])):\n",
        "        plt.subplot(1, 4, i+1)\n",
        "        img_display = images[i].squeeze().cpu().numpy() * 0.5 + 0.5\n",
        "        plt.imshow(img_display, cmap='gray')\n",
        "        plt.title(f\"Emotion: {labels[i].item()}\")\n",
        "        plt.axis('off')\n",
        "    plt.show()\n",
        "    break"
      ],
      "metadata": {
        "colab": {
          "base_uri": "https://localhost:8080/",
          "height": 284
        },
        "id": "5RRShiGutJBG",
        "outputId": "a504471e-3501-4b22-9360-d4a96a9a41cb"
      },
      "execution_count": 49,
      "outputs": [
        {
          "output_type": "stream",
          "name": "stdout",
          "text": [
            "\n",
            "Verifying data loading (full dataset batch):\n",
            "Batch images shape: torch.Size([64, 1, 48, 48])\n",
            "Batch labels shape: torch.Size([64])\n"
          ]
        },
        {
          "output_type": "display_data",
          "data": {
            "text/plain": [
              "<Figure size 1000x200 with 4 Axes>"
            ],
            "image/png": "[encoded data removed]"
          },
          "metadata": {}
        }
      ]
    },
    {
      "cell_type": "code",
      "source": [
        "class EmotionVGG(nn.Module):\n",
        "    def __init__(self, num_classes=7):\n",
        "        super(EmotionVGG, self).__init__()\n",
        "\n",
        "        self.features = nn.Sequential(\n",
        "            nn.Conv2d(1, 64, kernel_size=3, padding=1),\n",
        "            nn.BatchNorm2d(64),\n",
        "            nn.ReLU(inplace=True),\n",
        "            nn.Conv2d(64, 64, kernel_size=3, padding=1),\n",
        "            nn.BatchNorm2d(64),\n",
        "            nn.ReLU(inplace=True),\n",
        "            nn.MaxPool2d(kernel_size=2, stride=2),\n",
        "\n",
        "            nn.Conv2d(64, 128, kernel_size=3, padding=1),\n",
        "            nn.BatchNorm2d(128),\n",
        "            nn.ReLU(inplace=True),\n",
        "            nn.Conv2d(128, 128, kernel_size=3, padding=1),\n",
        "            nn.BatchNorm2d(128),\n",
        "            nn.ReLU(inplace=True),\n",
        "\n",
        "            nn.Conv2d(128, 256, kernel_size=3, padding=1),\n",
        "            nn.BatchNorm2d(256),\n",
        "            nn.ReLU(inplace=True),\n",
        "            nn.Conv2d(256, 256, kernel_size=3, padding=1),\n",
        "            nn.BatchNorm2d(256),\n",
        "            nn.ReLU(inplace=True),\n",
        "            nn.MaxPool2d(kernel_size=2, stride=2),\n",
        "        )\n",
        "\n",
        "\n",
        "        self.fc1_input_features = 256 * 12 * 12\n",
        "\n",
        "        self.classifier = nn.Sequential(\n",
        "            nn.Dropout(0.5),\n",
        "            nn.Linear(self.fc1_input_features, 512),\n",
        "            nn.BatchNorm1d(512),\n",
        "            nn.ReLU(inplace=True),\n",
        "            nn.Dropout(0.5),\n",
        "            nn.Linear(512, num_classes)\n",
        "        )\n",
        "\n",
        "    def forward(self, x):\n",
        "        x = self.features(x)\n",
        "        x = x.view(x.size(0), -1)\n",
        "        x = self.classifier(x)\n",
        "        return x"
      ],
      "metadata": {
        "id": "GGCwBd-TtQkf"
      },
      "execution_count": 55,
      "outputs": []
    },
    {
      "cell_type": "code",
      "source": [
        "def train_model_optimized(model, train_loader, val_loader, criterion, optimizer, scheduler, num_epochs,\n",
        "                          early_stopping_patience, min_delta, model_save_path='best_emotion_model.pth'):\n",
        "    train_losses = []\n",
        "    val_losses = []\n",
        "    train_accuracies = []\n",
        "    val_accuracies = []\n",
        "\n",
        "    best_val_loss = float('inf')\n",
        "    epochs_no_improve = 0\n",
        "\n",
        "    print(f\"\\n--- Training {model.__class__.__name__} on FULL dataset ---\")\n",
        "    for epoch in range(num_epochs):\n",
        "        model.train()\n",
        "        running_loss = 0.0\n",
        "        correct_train = 0\n",
        "        total_train = 0\n",
        "        for i, (images, labels) in enumerate(train_loader):\n",
        "            images, labels = images.to(device), labels.to(device)\n",
        "\n",
        "            optimizer.zero_grad()\n",
        "            outputs = model(images)\n",
        "            loss = criterion(outputs, labels)\n",
        "            loss.backward()\n",
        "            optimizer.step()\n",
        "\n",
        "            running_loss += loss.item()\n",
        "            _, predicted = torch.max(outputs.data, 1)\n",
        "            total_train += labels.size(0)\n",
        "            correct_train += (predicted == labels).sum().item()\n",
        "\n",
        "        epoch_train_loss = running_loss / len(train_loader)\n",
        "        epoch_train_accuracy = correct_train / total_train\n",
        "        train_losses.append(epoch_train_loss)\n",
        "        train_accuracies.append(epoch_train_accuracy)\n",
        "\n",
        "        model.eval()\n",
        "        val_loss = 0.0\n",
        "        correct_val = 0\n",
        "        total_val = 0\n",
        "        with torch.no_grad():\n",
        "            for images, labels in val_loader:\n",
        "                images, labels = images.to(device), labels.to(device)\n",
        "                outputs = model(images)\n",
        "                loss = criterion(outputs, labels)\n",
        "\n",
        "                val_loss += loss.item()\n",
        "                _, predicted = torch.max(outputs.data, 1)\n",
        "                total_val += labels.size(0)\n",
        "                correct_val += (predicted == labels).sum().item()\n",
        "\n",
        "        epoch_val_loss = val_loss / len(val_loader)\n",
        "        epoch_val_accuracy = correct_val / total_val\n",
        "        val_losses.append(epoch_val_loss)\n",
        "        val_accuracies.append(epoch_val_accuracy)\n",
        "\n",
        "        print(f'Epoch [{epoch+1}/{num_epochs}], '\n",
        "              f'Train Loss: {epoch_train_loss:.4f}, Train Acc: {epoch_train_accuracy:.4f}, '\n",
        "              f'Val Loss: {epoch_val_loss:.4f}, Val Acc: {epoch_val_accuracy:.4f}')\n",
        "\n",
        "        scheduler.step(epoch_val_loss)\n",
        "\n",
        "        if epoch_val_loss < best_val_loss - min_delta:\n",
        "            best_val_loss = epoch_val_loss\n",
        "            epochs_no_improve = 0\n",
        "            torch.save(model.state_dict(), model_save_path)\n",
        "            print(f\" --> Model saved: Best validation loss improved to {best_val_loss:.4f}\")\n",
        "        else:\n",
        "            epochs_no_improve += 1\n",
        "            print(f\" --> Validation loss did not improve. Epochs no improve: {epochs_no_improve}\")\n",
        "\n",
        "        if epochs_no_improve >= early_stopping_patience:\n",
        "            print(f\"Early stopping triggered after {epochs_no_improve} epochs without improvement.\")\n",
        "            break\n",
        "\n",
        "    print(\"Training complete.\")\n",
        "    return train_losses, val_losses, train_accuracies, val_accuracies"
      ],
      "metadata": {
        "id": "p148Lj_1t26i"
      },
      "execution_count": 56,
      "outputs": []
    },
    {
      "cell_type": "code",
      "source": [
        "class CNN_GlobalAveragePooling(nn.Module):\n",
        "    def __init__(self, num_classes=7):\n",
        "        super(CNN_GlobalAveragePooling, self).__init__()\n",
        "        self.features = nn.Sequential(\n",
        "            nn.Conv2d(1, 64, kernel_size=3, padding=1),\n",
        "            nn.BatchNorm2d(64),\n",
        "            nn.ReLU(inplace=True),\n",
        "            nn.Conv2d(64, 64, kernel_size=3, padding=1),\n",
        "            nn.BatchNorm2d(64),\n",
        "            nn.ReLU(inplace=True),\n",
        "            nn.MaxPool2d(kernel_size=2, stride=2),\n",
        "\n",
        "            nn.Conv2d(64, 128, kernel_size=3, padding=1),\n",
        "            nn.BatchNorm2d(128),\n",
        "            nn.ReLU(inplace=True),\n",
        "            nn.Conv2d(128, 128, kernel_size=3, padding=1),\n",
        "            nn.BatchNorm2d(128),\n",
        "            nn.ReLU(inplace=True),\n",
        "            nn.MaxPool2d(kernel_size=2, stride=2),\n",
        "\n",
        "            nn.Conv2d(128, 256, kernel_size=3, padding=1),\n",
        "            nn.BatchNorm2d(256),\n",
        "            nn.ReLU(inplace=True),\n",
        "            nn.Conv2d(256, 256, kernel_size=3, padding=1),\n",
        "            nn.BatchNorm2d(256),\n",
        "            nn.ReLU(inplace=True),\n",
        "            nn.MaxPool2d(kernel_size=2, stride=2),\n",
        "\n",
        "            nn.AdaptiveAvgPool2d((1, 1))\n",
        "        )\n",
        "        self.classifier = nn.Sequential(\n",
        "            nn.Dropout(0.5),\n",
        "            nn.Linear(256, num_classes)\n",
        "        )\n",
        "\n",
        "    def forward(self, x):\n",
        "        x = self.features(x)\n",
        "        x = x.view(x.size(0), -1)\n",
        "        x = self.classifier(x)\n",
        "        return x"
      ],
      "metadata": {
        "id": "DvKf2erBuZfs"
      },
      "execution_count": 57,
      "outputs": []
    },
    {
      "cell_type": "code",
      "source": [
        "class ResidualBlock(nn.Module):\n",
        "    def __init__(self, in_channels, out_channels, stride=1):\n",
        "        super(ResidualBlock, self).__init__()\n",
        "        self.conv1 = nn.Conv2d(in_channels, out_channels, kernel_size=3, stride=stride, padding=1, bias=False)\n",
        "        self.bn1 = nn.BatchNorm2d(out_channels)\n",
        "        self.relu = nn.ReLU(inplace=True)\n",
        "        self.conv2 = nn.Conv2d(out_channels, out_channels, kernel_size=3, stride=1, padding=1, bias=False)\n",
        "        self.bn2 = nn.BatchNorm2d(out_channels)\n",
        "\n",
        "        self.shortcut = nn.Sequential()\n",
        "        if stride != 1 or in_channels != out_channels:\n",
        "            self.shortcut = nn.Sequential(\n",
        "                nn.Conv2d(in_channels, out_channels, kernel_size=1, stride=stride, bias=False),\n",
        "                nn.BatchNorm2d(out_channels)\n",
        "            )\n",
        "\n",
        "    def forward(self, x):\n",
        "        residual = x\n",
        "        out = self.conv1(x)\n",
        "        out = self.bn1(out)\n",
        "        out = self.relu(out)\n",
        "        out = self.conv2(out)\n",
        "        out = self.bn2(out)\n",
        "        out += self.shortcut(residual)\n",
        "        out = self.relu(out)\n",
        "        return out\n",
        "\n",
        "class BasicResidualCNN(nn.Module):\n",
        "    def __init__(self, num_classes=7):\n",
        "        super(BasicResidualCNN, self).__init__()\n",
        "        self.in_channels = 64\n",
        "        self.conv1 = nn.Conv2d(1, 64, kernel_size=3, stride=1, padding=1, bias=False)\n",
        "        self.bn1 = nn.BatchNorm2d(64)\n",
        "        self.relu = nn.ReLU(inplace=True)\n",
        "        self.pool1 = nn.MaxPool2d(kernel_size=2, stride=2)\n",
        "\n",
        "        self.layer1 = self._make_layer(ResidualBlock, 64, 2, stride=1)\n",
        "        self.layer2 = self._make_layer(ResidualBlock, 128, 2, stride=2)\n",
        "        self.layer3 = self._make_layer(ResidualBlock, 256, 2, stride=2)\n",
        "\n",
        "        self.avg_pool = nn.AdaptiveAvgPool2d((1, 1))\n",
        "        self.fc = nn.Linear(256, num_classes)\n",
        "\n",
        "    def _make_layer(self, block, out_channels, num_blocks, stride):\n",
        "        strides = [stride] + [1] * (num_blocks - 1)\n",
        "        layers = []\n",
        "        for stride in strides:\n",
        "            layers.append(block(self.in_channels, out_channels, stride))\n",
        "            self.in_channels = out_channels\n",
        "        return nn.Sequential(*layers)\n",
        "\n",
        "    def forward(self, x):\n",
        "        out = self.conv1(x)\n",
        "        out = self.bn1(out)\n",
        "        out = self.relu(out)\n",
        "        out = self.pool1(out)\n",
        "\n",
        "        out = self.layer1(out)\n",
        "        out = self.layer2(out)\n",
        "        out = self.layer3(out)\n",
        "\n",
        "        out = self.avg_pool(out)\n",
        "        out = out.view(out.size(0), -1)\n",
        "        out = self.fc(out)\n",
        "        return out"
      ],
      "metadata": {
        "id": "NEIabKdY8c7B"
      },
      "execution_count": 58,
      "outputs": []
    },
    {
      "cell_type": "code",
      "source": [
        "models_to_train = {\n",
        "    \"SimpleCNN\": SimpleCNN(),\n",
        "    \"DeeperCNN\": DeeperCNN(),\n",
        "    \"EmotionVGG\": EmotionVGG(),\n",
        "    \"CNN_GlobalAveragePooling\": CNN_GlobalAveragePooling(),\n",
        "    \"BasicResidualCNN\": BasicResidualCNN()\n",
        "}\n",
        "\n",
        "learning_rate = 0.001\n",
        "fixed_batch_size = 64\n",
        "fixed_optimizer_name = 'Adam'\n",
        "fixed_dropout = 0.5\n",
        "fixed_scheduler_patience = 7\n",
        "fixed_weight_decay = 1e-4\n",
        "\n",
        "num_epochs = 50\n",
        "early_stopping_patience = 10\n",
        "min_delta = 0.0001\n",
        "results = {}"
      ],
      "metadata": {
        "id": "2CM4ZomT8jnz"
      },
      "execution_count": 59,
      "outputs": []
    },
    {
      "cell_type": "code",
      "source": [
        "for model_name, model_instance in models_to_train.items():\n",
        "    with wandb.init(project=\"FER2013_Individual_Models\",\n",
        "                    name=f\"Training_{model_name}\",\n",
        "                    config={\n",
        "                        \"model_architecture\": model_name,\n",
        "                        \"learning_rate\": learning_rate,\n",
        "                        \"batch_size\": fixed_batch_size,\n",
        "                        \"optimizer\": fixed_optimizer_name,\n",
        "                        \"dropout\": fixed_dropout,\n",
        "                        \"scheduler_patience\": fixed_scheduler_patience,\n",
        "                        \"weight_decay\": fixed_weight_decay,\n",
        "                        \"num_epochs\": num_epochs,\n",
        "                        \"early_stopping_patience\": early_stopping_patience,\n",
        "                        \"min_delta\": min_delta\n",
        "                    },\n",
        "                    reinit=True) as run:\n",
        "\n",
        "        print(f\"\\n===== Training {model_name} =====\")\n",
        "        current_model = model_instance.to(device)\n",
        "\n",
        "        if fixed_optimizer_name == 'Adam':\n",
        "            current_optimizer = optim.Adam(current_model.parameters(), lr=learning_rate, weight_decay=fixed_weight_decay)\n",
        "        elif fixed_optimizer_name == 'SGD':\n",
        "            current_optimizer = optim.SGD(current_model.parameters(), lr=learning_rate, momentum=0.9, weight_decay=fixed_weight_decay)\n",
        "        else:\n",
        "            raise ValueError(f\"Unsupported optimizer: {fixed_optimizer_name}\")\n",
        "\n",
        "        current_scheduler = optim.lr_scheduler.ReduceLROnPlateau(\n",
        "            current_optimizer, mode='min', factor=0.5, patience=fixed_scheduler_patience, verbose=False\n",
        "        )\n",
        "\n",
        "        current_model_save_path = f'best_{model_name.lower()}.pth'\n",
        "\n",
        "        history = train_model_optimized(\n",
        "            current_model,\n",
        "            train_loader,\n",
        "            val_loader,\n",
        "            criterion,\n",
        "            current_optimizer,\n",
        "            current_scheduler,\n",
        "            num_epochs,\n",
        "            early_stopping_patience,\n",
        "            min_delta,\n",
        "            current_model_save_path\n",
        "        )\n",
        "        train_losses, val_losses, train_accuracies, val_accuracies = history\n",
        "\n",
        "        for epoch_idx in range(len(train_accuracies)):\n",
        "            wandb.log({\n",
        "                \"epoch\": epoch_idx + 1,\n",
        "                \"train_loss\": train_losses[epoch_idx],\n",
        "                \"val_loss\": val_losses[epoch_idx],\n",
        "                \"train_accuracy\": train_accuracies[epoch_idx],\n",
        "                \"val_accuracy\": val_accuracies[epoch_idx]\n",
        "            })\n",
        "\n",
        "        fig_curves, axes_curves = plt.subplots(1, 2, figsize=(12, 4))\n",
        "        axes_curves[0].plot(train_accuracies, label='Train Accuracy')\n",
        "        axes_curves[0].plot(val_accuracies, label='Val Accuracy')\n",
        "        axes_curves[0].set_title(f'{model_name} - Accuracy')\n",
        "        axes_curves[0].set_xlabel('Epoch')\n",
        "        axes_curves[0].set_ylabel('Accuracy')\n",
        "        axes_curves[0].legend()\n",
        "\n",
        "        axes_curves[1].plot(train_losses, label='Train Loss')\n",
        "        axes_curves[1].plot(val_losses, label='Val Loss')\n",
        "        axes_curves[1].set_title(f'{model_name} - Loss')\n",
        "        axes_curves[1].set_xlabel('Epoch')\n",
        "        axes_curves[1].set_ylabel('Loss')\n",
        "        axes_curves[1].legend()\n",
        "        plt.tight_layout()\n",
        "        wandb.log({\"training_validation_curves\": wandb.Image(fig_curves)})\n",
        "        plt.close(fig_curves)\n",
        "\n",
        "        current_model.load_state_dict(torch.load(current_model_save_path))\n",
        "        current_model.eval()\n",
        "\n",
        "        all_preds = []\n",
        "        all_labels = []\n",
        "\n",
        "        with torch.no_grad():\n",
        "            for images, labels in val_loader:\n",
        "                images, labels = images.to(device), labels.to(device)\n",
        "                outputs = current_model(images)\n",
        "                _, predicted = torch.max(outputs.data, 1)\n",
        "                all_preds.extend(predicted.cpu().numpy().tolist())\n",
        "                all_labels.extend(labels.cpu().numpy().tolist())\n",
        "\n",
        "        final_val_accuracy = accuracy_score(all_labels, all_preds)\n",
        "\n",
        "        results[model_name] = {\n",
        "            'train_history': history,\n",
        "            'final_val_accuracy': final_val_accuracy,\n",
        "        }\n",
        "\n",
        "        print(f\"\\n--- Evaluation for {model_name} on Validation Set (Best Model) ---\")\n",
        "        print(f\"Final Validation Accuracy: {final_val_accuracy:.4f}\")\n",
        "\n",
        "        wandb.log({\n",
        "            \"final_validation_accuracy\": final_val_accuracy\n",
        "        })\n",
        "\n",
        "\n",
        "        if os.path.exists(current_model_save_path):\n",
        "            artifact = wandb.Artifact(name=f\"{model_name}_best_model\", type=\"model\")\n",
        "            artifact.add_file(current_model_save_path)\n",
        "            run.log_artifact(artifact)\n",
        "        else:\n",
        "            print(f\"Warning: Model checkpoint '{current_model_save_path}' not found. Cannot log as artifact.\")\n",
        "\n",
        "print(\"\\n===== All Models Training Complete =====\")\n",
        "print(\"\\n--- Summary of Model Performance ---\")\n",
        "for model_name, data in results.items():\n",
        "    print(f\"\\nModel: {model_name}\")\n",
        "    print(f\"  Final Validation Accuracy: {data['final_val_accuracy']:.4f}\")"
      ],
      "metadata": {
        "colab": {
          "base_uri": "https://localhost:8080/",
          "height": 1000
        },
        "id": "fMYo7nY-8qeW",
        "outputId": "fd3a73aa-3c1f-467f-d70c-f1a5f39d0efb"
      },
      "execution_count": 65,
      "outputs": [
        {
          "output_type": "display_data",
          "data": {
            "text/plain": [
              "<IPython.core.display.HTML object>"
            ],
            "text/html": [
              "Tracking run with wandb version 0.19.11"
            ]
          },
          "metadata": {}
        },
        {
          "output_type": "display_data",
          "data": {
            "text/plain": [
              "<IPython.core.display.HTML object>"
            ],
            "text/html": [
              "Run data is saved locally in <code>/content/wandb/run-20250607_180310-x5vn71kz</code>"
            ]
          },
          "metadata": {}
        },
        {
          "output_type": "display_data",
          "data": {
            "text/plain": [
              "<IPython.core.display.HTML object>"
            ],
            "text/html": [
              "Syncing run <strong><a href='https://wandb.ai/alaki22-free-university-of-tbilisi-/FER2013_Individual_Models/runs/x5vn71kz' target=\"_blank\">Training_SimpleCNN</a></strong> to <a href='https://wandb.ai/alaki22-free-university-of-tbilisi-/FER2013_Individual_Models' target=\"_blank\">Weights & Biases</a> (<a href='https://wandb.me/developer-guide' target=\"_blank\">docs</a>)<br>"
            ]
          },
          "metadata": {}
        },
        {
          "output_type": "display_data",
          "data": {
            "text/plain": [
              "<IPython.core.display.HTML object>"
            ],
            "text/html": [
              " View project at <a href='https://wandb.ai/alaki22-free-university-of-tbilisi-/FER2013_Individual_Models' target=\"_blank\">https://wandb.ai/alaki22-free-university-of-tbilisi-/FER2013_Individual_Models</a>"
            ]
          },
          "metadata": {}
        },
        {
          "output_type": "display_data",
          "data": {
            "text/plain": [
              "<IPython.core.display.HTML object>"
            ],
            "text/html": [
              " View run at <a href='https://wandb.ai/alaki22-free-university-of-tbilisi-/FER2013_Individual_Models/runs/x5vn71kz' target=\"_blank\">https://wandb.ai/alaki22-free-university-of-tbilisi-/FER2013_Individual_Models/runs/x5vn71kz</a>"
            ]
          },
          "metadata": {}
        },
        {
          "output_type": "stream",
          "name": "stdout",
          "text": [
            "\n",
            "===== Training SimpleCNN =====\n",
            "\n",
            "--- Training SimpleCNN on FULL dataset ---\n",
            "Epoch [1/50], Train Loss: 1.5778, Train Acc: 0.3813, Val Loss: 1.4485, Val Acc: 0.4480\n",
            " --> Model saved: Best validation loss improved to 1.4485\n",
            "Epoch [2/50], Train Loss: 1.4700, Train Acc: 0.4322, Val Loss: 1.3812, Val Acc: 0.4765\n",
            " --> Model saved: Best validation loss improved to 1.3812\n",
            "Epoch [3/50], Train Loss: 1.4116, Train Acc: 0.4589, Val Loss: 1.3117, Val Acc: 0.5052\n",
            " --> Model saved: Best validation loss improved to 1.3117\n",
            "Epoch [4/50], Train Loss: 1.3648, Train Acc: 0.4756, Val Loss: 1.2998, Val Acc: 0.5007\n",
            " --> Model saved: Best validation loss improved to 1.2998\n",
            "Epoch [5/50], Train Loss: 1.3369, Train Acc: 0.4880, Val Loss: 1.2756, Val Acc: 0.5065\n",
            " --> Model saved: Best validation loss improved to 1.2756\n",
            "Epoch [6/50], Train Loss: 1.3131, Train Acc: 0.4999, Val Loss: 1.2609, Val Acc: 0.5102\n",
            " --> Model saved: Best validation loss improved to 1.2609\n",
            "Epoch [7/50], Train Loss: 1.2949, Train Acc: 0.5064, Val Loss: 1.2309, Val Acc: 0.5169\n",
            " --> Model saved: Best validation loss improved to 1.2309\n",
            "Epoch [8/50], Train Loss: 1.2774, Train Acc: 0.5125, Val Loss: 1.2284, Val Acc: 0.5280\n",
            " --> Model saved: Best validation loss improved to 1.2284\n",
            "Epoch [9/50], Train Loss: 1.2577, Train Acc: 0.5232, Val Loss: 1.2082, Val Acc: 0.5305\n",
            " --> Model saved: Best validation loss improved to 1.2082\n",
            "Epoch [10/50], Train Loss: 1.2497, Train Acc: 0.5257, Val Loss: 1.2114, Val Acc: 0.5330\n",
            " --> Validation loss did not improve. Epochs no improve: 1\n",
            "Epoch [11/50], Train Loss: 1.2360, Train Acc: 0.5257, Val Loss: 1.1976, Val Acc: 0.5375\n",
            " --> Model saved: Best validation loss improved to 1.1976\n",
            "Epoch [12/50], Train Loss: 1.2266, Train Acc: 0.5304, Val Loss: 1.1934, Val Acc: 0.5366\n",
            " --> Model saved: Best validation loss improved to 1.1934\n",
            "Epoch [13/50], Train Loss: 1.2184, Train Acc: 0.5357, Val Loss: 1.1791, Val Acc: 0.5478\n",
            " --> Model saved: Best validation loss improved to 1.1791\n",
            "Epoch [14/50], Train Loss: 1.2010, Train Acc: 0.5396, Val Loss: 1.1788, Val Acc: 0.5489\n",
            " --> Model saved: Best validation loss improved to 1.1788\n",
            "Epoch [15/50], Train Loss: 1.1957, Train Acc: 0.5456, Val Loss: 1.1704, Val Acc: 0.5528\n",
            " --> Model saved: Best validation loss improved to 1.1704\n",
            "Epoch [16/50], Train Loss: 1.1906, Train Acc: 0.5482, Val Loss: 1.1831, Val Acc: 0.5347\n",
            " --> Validation loss did not improve. Epochs no improve: 1\n",
            "Epoch [17/50], Train Loss: 1.1803, Train Acc: 0.5471, Val Loss: 1.1681, Val Acc: 0.5536\n",
            " --> Model saved: Best validation loss improved to 1.1681\n",
            "Epoch [18/50], Train Loss: 1.1810, Train Acc: 0.5498, Val Loss: 1.1603, Val Acc: 0.5598\n",
            " --> Model saved: Best validation loss improved to 1.1603\n",
            "Epoch [19/50], Train Loss: 1.1639, Train Acc: 0.5569, Val Loss: 1.1653, Val Acc: 0.5548\n",
            " --> Validation loss did not improve. Epochs no improve: 1\n",
            "Epoch [20/50], Train Loss: 1.1581, Train Acc: 0.5573, Val Loss: 1.1476, Val Acc: 0.5678\n",
            " --> Model saved: Best validation loss improved to 1.1476\n",
            "Epoch [21/50], Train Loss: 1.1581, Train Acc: 0.5571, Val Loss: 1.1485, Val Acc: 0.5609\n",
            " --> Validation loss did not improve. Epochs no improve: 1\n",
            "Epoch [22/50], Train Loss: 1.1447, Train Acc: 0.5613, Val Loss: 1.1413, Val Acc: 0.5754\n",
            " --> Model saved: Best validation loss improved to 1.1413\n",
            "Epoch [23/50], Train Loss: 1.1466, Train Acc: 0.5630, Val Loss: 1.1438, Val Acc: 0.5740\n",
            " --> Validation loss did not improve. Epochs no improve: 1\n",
            "Epoch [24/50], Train Loss: 1.1394, Train Acc: 0.5658, Val Loss: 1.1350, Val Acc: 0.5704\n",
            " --> Model saved: Best validation loss improved to 1.1350\n",
            "Epoch [25/50], Train Loss: 1.1381, Train Acc: 0.5624, Val Loss: 1.1358, Val Acc: 0.5726\n",
            " --> Validation loss did not improve. Epochs no improve: 1\n",
            "Epoch [26/50], Train Loss: 1.1250, Train Acc: 0.5721, Val Loss: 1.1482, Val Acc: 0.5681\n",
            " --> Validation loss did not improve. Epochs no improve: 2\n",
            "Epoch [27/50], Train Loss: 1.1289, Train Acc: 0.5700, Val Loss: 1.1437, Val Acc: 0.5715\n",
            " --> Validation loss did not improve. Epochs no improve: 3\n",
            "Epoch [28/50], Train Loss: 1.1195, Train Acc: 0.5707, Val Loss: 1.1509, Val Acc: 0.5692\n",
            " --> Validation loss did not improve. Epochs no improve: 4\n",
            "Epoch [29/50], Train Loss: 1.1149, Train Acc: 0.5738, Val Loss: 1.1383, Val Acc: 0.5748\n",
            " --> Validation loss did not improve. Epochs no improve: 5\n",
            "Epoch [30/50], Train Loss: 1.1055, Train Acc: 0.5769, Val Loss: 1.1368, Val Acc: 0.5734\n",
            " --> Validation loss did not improve. Epochs no improve: 6\n",
            "Epoch [31/50], Train Loss: 1.1032, Train Acc: 0.5791, Val Loss: 1.1306, Val Acc: 0.5720\n",
            " --> Model saved: Best validation loss improved to 1.1306\n",
            "Epoch [32/50], Train Loss: 1.1032, Train Acc: 0.5793, Val Loss: 1.1290, Val Acc: 0.5690\n",
            " --> Model saved: Best validation loss improved to 1.1290\n",
            "Epoch [33/50], Train Loss: 1.0933, Train Acc: 0.5809, Val Loss: 1.1412, Val Acc: 0.5709\n",
            " --> Validation loss did not improve. Epochs no improve: 1\n",
            "Epoch [34/50], Train Loss: 1.0909, Train Acc: 0.5807, Val Loss: 1.1222, Val Acc: 0.5795\n",
            " --> Model saved: Best validation loss improved to 1.1222\n",
            "Epoch [35/50], Train Loss: 1.0889, Train Acc: 0.5835, Val Loss: 1.1390, Val Acc: 0.5743\n",
            " --> Validation loss did not improve. Epochs no improve: 1\n",
            "Epoch [36/50], Train Loss: 1.0803, Train Acc: 0.5884, Val Loss: 1.1275, Val Acc: 0.5848\n",
            " --> Validation loss did not improve. Epochs no improve: 2\n",
            "Epoch [37/50], Train Loss: 1.0769, Train Acc: 0.5874, Val Loss: 1.1313, Val Acc: 0.5823\n",
            " --> Validation loss did not improve. Epochs no improve: 3\n",
            "Epoch [38/50], Train Loss: 1.0829, Train Acc: 0.5862, Val Loss: 1.1340, Val Acc: 0.5784\n",
            " --> Validation loss did not improve. Epochs no improve: 4\n",
            "Epoch [39/50], Train Loss: 1.0709, Train Acc: 0.5882, Val Loss: 1.1277, Val Acc: 0.5782\n",
            " --> Validation loss did not improve. Epochs no improve: 5\n",
            "Epoch [40/50], Train Loss: 1.0720, Train Acc: 0.5903, Val Loss: 1.1281, Val Acc: 0.5851\n",
            " --> Validation loss did not improve. Epochs no improve: 6\n",
            "Epoch [41/50], Train Loss: 1.0673, Train Acc: 0.5901, Val Loss: 1.1280, Val Acc: 0.5795\n",
            " --> Validation loss did not improve. Epochs no improve: 7\n",
            "Epoch [42/50], Train Loss: 1.0636, Train Acc: 0.5923, Val Loss: 1.1258, Val Acc: 0.5823\n",
            " --> Validation loss did not improve. Epochs no improve: 8\n",
            "Epoch [43/50], Train Loss: 1.0251, Train Acc: 0.6103, Val Loss: 1.1357, Val Acc: 0.5784\n",
            " --> Validation loss did not improve. Epochs no improve: 9\n",
            "Epoch [44/50], Train Loss: 1.0167, Train Acc: 0.6130, Val Loss: 1.1216, Val Acc: 0.5890\n",
            " --> Model saved: Best validation loss improved to 1.1216\n",
            "Epoch [45/50], Train Loss: 1.0117, Train Acc: 0.6120, Val Loss: 1.1080, Val Acc: 0.5938\n",
            " --> Model saved: Best validation loss improved to 1.1080\n",
            "Epoch [46/50], Train Loss: 1.0030, Train Acc: 0.6173, Val Loss: 1.1072, Val Acc: 0.5929\n",
            " --> Model saved: Best validation loss improved to 1.1072\n",
            "Epoch [47/50], Train Loss: 0.9957, Train Acc: 0.6189, Val Loss: 1.1020, Val Acc: 0.5954\n",
            " --> Model saved: Best validation loss improved to 1.1020\n",
            "Epoch [48/50], Train Loss: 0.9977, Train Acc: 0.6203, Val Loss: 1.1101, Val Acc: 0.5952\n",
            " --> Validation loss did not improve. Epochs no improve: 1\n",
            "Epoch [49/50], Train Loss: 0.9880, Train Acc: 0.6202, Val Loss: 1.1154, Val Acc: 0.5926\n",
            " --> Validation loss did not improve. Epochs no improve: 2\n",
            "Epoch [50/50], Train Loss: 0.9914, Train Acc: 0.6216, Val Loss: 1.1114, Val Acc: 0.5993\n",
            " --> Validation loss did not improve. Epochs no improve: 3\n",
            "Training complete.\n",
            "\n",
            "--- Evaluation for SimpleCNN on Validation Set (Best Model) ---\n",
            "Final Validation Accuracy: 0.5954\n"
          ]
        },
        {
          "output_type": "display_data",
          "data": {
            "text/plain": [
              "<IPython.core.display.HTML object>"
            ],
            "text/html": []
          },
          "metadata": {}
        },
        {
          "output_type": "display_data",
          "data": {
            "text/plain": [
              "<IPython.core.display.HTML object>"
            ],
            "text/html": [
              "<br>    <style><br>        .wandb-row {<br>            display: flex;<br>            flex-direction: row;<br>            flex-wrap: wrap;<br>            justify-content: flex-start;<br>            width: 100%;<br>        }<br>        .wandb-col {<br>            display: flex;<br>            flex-direction: column;<br>            flex-basis: 100%;<br>            flex: 1;<br>            padding: 10px;<br>        }<br>    </style><br><div class=\"wandb-row\"><div class=\"wandb-col\"><h3>Run history:</h3><br/><table class=\"wandb\"><tr><td>epoch</td><td>▁▁▁▁▂▂▂▂▂▂▃▃▃▃▃▄▄▄▄▄▄▅▅▅▅▅▆▆▆▆▆▆▇▇▇▇▇███</td></tr><tr><td>final_validation_accuracy</td><td>▁</td></tr><tr><td>train_accuracy</td><td>▁▂▃▄▄▅▅▅▅▅▅▆▆▆▆▆▆▆▆▆▇▆▇▇▇▇▇▇▇▇▇▇▇▇██████</td></tr><tr><td>train_loss</td><td>█▇▆▅▅▅▄▄▄▄▄▄▃▃▃▃▃▃▃▃▃▃▂▂▂▂▂▂▂▂▂▂▂▂▁▁▁▁▁▁</td></tr><tr><td>val_accuracy</td><td>▁▂▄▃▄▄▅▅▅▅▆▆▆▅▆▆▇▆▇▇▇▇▇▇▇▇▇▇▇▇▇▇▇▇▇█████</td></tr><tr><td>val_loss</td><td>█▇▅▅▅▄▄▃▃▃▃▃▂▃▂▂▂▂▂▂▂▂▂▂▂▂▂▁▂▂▂▂▂▁▂▁▁▁▁▁</td></tr></table><br/></div><div class=\"wandb-col\"><h3>Run summary:</h3><br/><table class=\"wandb\"><tr><td>epoch</td><td>50</td></tr><tr><td>final_validation_accuracy</td><td>0.59543</td></tr><tr><td>train_accuracy</td><td>0.62162</td></tr><tr><td>train_loss</td><td>0.9914</td></tr><tr><td>val_accuracy</td><td>0.59933</td></tr><tr><td>val_loss</td><td>1.11145</td></tr></table><br/></div></div>"
            ]
          },
          "metadata": {}
        },
        {
          "output_type": "display_data",
          "data": {
            "text/plain": [
              "<IPython.core.display.HTML object>"
            ],
            "text/html": [
              " View run <strong style=\"color:#cdcd00\">Training_SimpleCNN</strong> at: <a href='https://wandb.ai/alaki22-free-university-of-tbilisi-/FER2013_Individual_Models/runs/x5vn71kz' target=\"_blank\">https://wandb.ai/alaki22-free-university-of-tbilisi-/FER2013_Individual_Models/runs/x5vn71kz</a><br> View project at: <a href='https://wandb.ai/alaki22-free-university-of-tbilisi-/FER2013_Individual_Models' target=\"_blank\">https://wandb.ai/alaki22-free-university-of-tbilisi-/FER2013_Individual_Models</a><br>Synced 5 W&B file(s), 1 media file(s), 2 artifact file(s) and 0 other file(s)"
            ]
          },
          "metadata": {}
        },
        {
          "output_type": "display_data",
          "data": {
            "text/plain": [
              "<IPython.core.display.HTML object>"
            ],
            "text/html": [
              "Find logs at: <code>./wandb/run-20250607_180310-x5vn71kz/logs</code>"
            ]
          },
          "metadata": {}
        },
        {
          "output_type": "display_data",
          "data": {
            "text/plain": [
              "<IPython.core.display.HTML object>"
            ],
            "text/html": [
              "Tracking run with wandb version 0.19.11"
            ]
          },
          "metadata": {}
        },
        {
          "output_type": "display_data",
          "data": {
            "text/plain": [
              "<IPython.core.display.HTML object>"
            ],
            "text/html": [
              "Run data is saved locally in <code>/content/wandb/run-20250607_181801-6erlm9ue</code>"
            ]
          },
          "metadata": {}
        },
        {
          "output_type": "display_data",
          "data": {
            "text/plain": [
              "<IPython.core.display.HTML object>"
            ],
            "text/html": [
              "Syncing run <strong><a href='https://wandb.ai/alaki22-free-university-of-tbilisi-/FER2013_Individual_Models/runs/6erlm9ue' target=\"_blank\">Training_DeeperCNN</a></strong> to <a href='https://wandb.ai/alaki22-free-university-of-tbilisi-/FER2013_Individual_Models' target=\"_blank\">Weights & Biases</a> (<a href='https://wandb.me/developer-guide' target=\"_blank\">docs</a>)<br>"
            ]
          },
          "metadata": {}
        },
        {
          "output_type": "display_data",
          "data": {
            "text/plain": [
              "<IPython.core.display.HTML object>"
            ],
            "text/html": [
              " View project at <a href='https://wandb.ai/alaki22-free-university-of-tbilisi-/FER2013_Individual_Models' target=\"_blank\">https://wandb.ai/alaki22-free-university-of-tbilisi-/FER2013_Individual_Models</a>"
            ]
          },
          "metadata": {}
        },
        {
          "output_type": "display_data",
          "data": {
            "text/plain": [
              "<IPython.core.display.HTML object>"
            ],
            "text/html": [
              " View run at <a href='https://wandb.ai/alaki22-free-university-of-tbilisi-/FER2013_Individual_Models/runs/6erlm9ue' target=\"_blank\">https://wandb.ai/alaki22-free-university-of-tbilisi-/FER2013_Individual_Models/runs/6erlm9ue</a>"
            ]
          },
          "metadata": {}
        },
        {
          "output_type": "stream",
          "name": "stdout",
          "text": [
            "\n",
            "===== Training DeeperCNN =====\n",
            "\n",
            "--- Training DeeperCNN on FULL dataset ---\n"
          ]
        },
        {
          "output_type": "stream",
          "name": "stderr",
          "text": [
            "/usr/local/lib/python3.11/dist-packages/torch/optim/lr_scheduler.py:62: UserWarning: The verbose parameter is deprecated. Please use get_last_lr() to access the learning rate.\n",
            "  warnings.warn(\n"
          ]
        },
        {
          "output_type": "stream",
          "name": "stdout",
          "text": [
            "Epoch [1/50], Train Loss: 1.6612, Train Acc: 0.3376, Val Loss: 1.4868, Val Acc: 0.4316\n",
            " --> Model saved: Best validation loss improved to 1.4868\n",
            "Epoch [2/50], Train Loss: 1.4530, Train Acc: 0.4397, Val Loss: 1.3500, Val Acc: 0.4806\n",
            " --> Model saved: Best validation loss improved to 1.3500\n",
            "Epoch [3/50], Train Loss: 1.3597, Train Acc: 0.4804, Val Loss: 1.2848, Val Acc: 0.5071\n",
            " --> Model saved: Best validation loss improved to 1.2848\n",
            "Epoch [4/50], Train Loss: 1.2928, Train Acc: 0.5091, Val Loss: 1.2202, Val Acc: 0.5369\n",
            " --> Model saved: Best validation loss improved to 1.2202\n",
            "Epoch [5/50], Train Loss: 1.2573, Train Acc: 0.5235, Val Loss: 1.1831, Val Acc: 0.5500\n",
            " --> Model saved: Best validation loss improved to 1.1831\n",
            "Epoch [6/50], Train Loss: 1.2217, Train Acc: 0.5389, Val Loss: 1.1400, Val Acc: 0.5676\n",
            " --> Model saved: Best validation loss improved to 1.1400\n",
            "Epoch [7/50], Train Loss: 1.1963, Train Acc: 0.5503, Val Loss: 1.1339, Val Acc: 0.5651\n",
            " --> Model saved: Best validation loss improved to 1.1339\n",
            "Epoch [8/50], Train Loss: 1.1735, Train Acc: 0.5576, Val Loss: 1.1121, Val Acc: 0.5801\n",
            " --> Model saved: Best validation loss improved to 1.1121\n",
            "Epoch [9/50], Train Loss: 1.1550, Train Acc: 0.5641, Val Loss: 1.1263, Val Acc: 0.5748\n",
            " --> Validation loss did not improve. Epochs no improve: 1\n",
            "Epoch [10/50], Train Loss: 1.1337, Train Acc: 0.5737, Val Loss: 1.0939, Val Acc: 0.5901\n",
            " --> Model saved: Best validation loss improved to 1.0939\n",
            "Epoch [11/50], Train Loss: 1.1229, Train Acc: 0.5764, Val Loss: 1.0950, Val Acc: 0.5887\n",
            " --> Validation loss did not improve. Epochs no improve: 1\n",
            "Epoch [12/50], Train Loss: 1.1018, Train Acc: 0.5869, Val Loss: 1.0785, Val Acc: 0.5952\n",
            " --> Model saved: Best validation loss improved to 1.0785\n",
            "Epoch [13/50], Train Loss: 1.0929, Train Acc: 0.5850, Val Loss: 1.0733, Val Acc: 0.6002\n",
            " --> Model saved: Best validation loss improved to 1.0733\n",
            "Epoch [14/50], Train Loss: 1.0773, Train Acc: 0.5928, Val Loss: 1.0600, Val Acc: 0.6069\n",
            " --> Model saved: Best validation loss improved to 1.0600\n",
            "Epoch [15/50], Train Loss: 1.0653, Train Acc: 0.5987, Val Loss: 1.0538, Val Acc: 0.6108\n",
            " --> Model saved: Best validation loss improved to 1.0538\n",
            "Epoch [16/50], Train Loss: 1.0605, Train Acc: 0.6032, Val Loss: 1.0581, Val Acc: 0.6041\n",
            " --> Validation loss did not improve. Epochs no improve: 1\n",
            "Epoch [17/50], Train Loss: 1.0528, Train Acc: 0.6029, Val Loss: 1.0797, Val Acc: 0.5974\n",
            " --> Validation loss did not improve. Epochs no improve: 2\n",
            "Epoch [18/50], Train Loss: 1.0427, Train Acc: 0.6063, Val Loss: 1.0659, Val Acc: 0.6038\n",
            " --> Validation loss did not improve. Epochs no improve: 3\n",
            "Epoch [19/50], Train Loss: 1.0355, Train Acc: 0.6100, Val Loss: 1.0498, Val Acc: 0.6149\n",
            " --> Model saved: Best validation loss improved to 1.0498\n",
            "Epoch [20/50], Train Loss: 1.0219, Train Acc: 0.6149, Val Loss: 1.0453, Val Acc: 0.6113\n",
            " --> Model saved: Best validation loss improved to 1.0453\n",
            "Epoch [21/50], Train Loss: 1.0181, Train Acc: 0.6154, Val Loss: 1.0375, Val Acc: 0.6127\n",
            " --> Model saved: Best validation loss improved to 1.0375\n",
            "Epoch [22/50], Train Loss: 1.0064, Train Acc: 0.6193, Val Loss: 1.0489, Val Acc: 0.6158\n",
            " --> Validation loss did not improve. Epochs no improve: 1\n",
            "Epoch [23/50], Train Loss: 1.0007, Train Acc: 0.6233, Val Loss: 1.0284, Val Acc: 0.6236\n",
            " --> Model saved: Best validation loss improved to 1.0284\n",
            "Epoch [24/50], Train Loss: 0.9899, Train Acc: 0.6218, Val Loss: 1.0392, Val Acc: 0.6127\n",
            " --> Validation loss did not improve. Epochs no improve: 1\n",
            "Epoch [25/50], Train Loss: 0.9903, Train Acc: 0.6275, Val Loss: 1.0515, Val Acc: 0.6108\n",
            " --> Validation loss did not improve. Epochs no improve: 2\n",
            "Epoch [26/50], Train Loss: 0.9839, Train Acc: 0.6284, Val Loss: 1.0392, Val Acc: 0.6130\n",
            " --> Validation loss did not improve. Epochs no improve: 3\n",
            "Epoch [27/50], Train Loss: 0.9733, Train Acc: 0.6336, Val Loss: 1.0582, Val Acc: 0.6108\n",
            " --> Validation loss did not improve. Epochs no improve: 4\n",
            "Epoch [28/50], Train Loss: 0.9632, Train Acc: 0.6360, Val Loss: 1.0470, Val Acc: 0.6194\n",
            " --> Validation loss did not improve. Epochs no improve: 5\n",
            "Epoch [29/50], Train Loss: 0.9617, Train Acc: 0.6338, Val Loss: 1.0258, Val Acc: 0.6211\n",
            " --> Model saved: Best validation loss improved to 1.0258\n",
            "Epoch [30/50], Train Loss: 0.9546, Train Acc: 0.6410, Val Loss: 1.0585, Val Acc: 0.6275\n",
            " --> Validation loss did not improve. Epochs no improve: 1\n",
            "Epoch [31/50], Train Loss: 0.9540, Train Acc: 0.6376, Val Loss: 1.0336, Val Acc: 0.6255\n",
            " --> Validation loss did not improve. Epochs no improve: 2\n",
            "Epoch [32/50], Train Loss: 0.9428, Train Acc: 0.6450, Val Loss: 1.0339, Val Acc: 0.6261\n",
            " --> Validation loss did not improve. Epochs no improve: 3\n",
            "Epoch [33/50], Train Loss: 0.9373, Train Acc: 0.6490, Val Loss: 1.0247, Val Acc: 0.6322\n",
            " --> Model saved: Best validation loss improved to 1.0247\n",
            "Epoch [34/50], Train Loss: 0.9301, Train Acc: 0.6527, Val Loss: 1.0283, Val Acc: 0.6291\n",
            " --> Validation loss did not improve. Epochs no improve: 1\n",
            "Epoch [35/50], Train Loss: 0.9230, Train Acc: 0.6506, Val Loss: 1.0362, Val Acc: 0.6227\n",
            " --> Validation loss did not improve. Epochs no improve: 2\n",
            "Epoch [36/50], Train Loss: 0.9141, Train Acc: 0.6566, Val Loss: 1.0658, Val Acc: 0.6108\n",
            " --> Validation loss did not improve. Epochs no improve: 3\n",
            "Epoch [37/50], Train Loss: 0.9078, Train Acc: 0.6579, Val Loss: 1.0400, Val Acc: 0.6222\n",
            " --> Validation loss did not improve. Epochs no improve: 4\n",
            "Epoch [38/50], Train Loss: 0.9117, Train Acc: 0.6539, Val Loss: 1.0464, Val Acc: 0.6300\n",
            " --> Validation loss did not improve. Epochs no improve: 5\n",
            "Epoch [39/50], Train Loss: 0.9041, Train Acc: 0.6603, Val Loss: 1.0362, Val Acc: 0.6261\n",
            " --> Validation loss did not improve. Epochs no improve: 6\n",
            "Epoch [40/50], Train Loss: 0.8973, Train Acc: 0.6579, Val Loss: 1.0375, Val Acc: 0.6319\n",
            " --> Validation loss did not improve. Epochs no improve: 7\n",
            "Epoch [41/50], Train Loss: 0.8905, Train Acc: 0.6631, Val Loss: 1.0359, Val Acc: 0.6211\n",
            " --> Validation loss did not improve. Epochs no improve: 8\n",
            "Epoch [42/50], Train Loss: 0.8511, Train Acc: 0.6809, Val Loss: 1.0274, Val Acc: 0.6336\n",
            " --> Validation loss did not improve. Epochs no improve: 9\n",
            "Epoch [43/50], Train Loss: 0.8255, Train Acc: 0.6913, Val Loss: 1.0327, Val Acc: 0.6358\n",
            " --> Validation loss did not improve. Epochs no improve: 10\n",
            "Early stopping triggered after 10 epochs without improvement.\n",
            "Training complete.\n",
            "\n",
            "--- Evaluation for DeeperCNN on Validation Set (Best Model) ---\n",
            "Final Validation Accuracy: 0.6322\n"
          ]
        },
        {
          "output_type": "display_data",
          "data": {
            "text/plain": [
              "<IPython.core.display.HTML object>"
            ],
            "text/html": []
          },
          "metadata": {}
        },
        {
          "output_type": "display_data",
          "data": {
            "text/plain": [
              "<IPython.core.display.HTML object>"
            ],
            "text/html": [
              "<br>    <style><br>        .wandb-row {<br>            display: flex;<br>            flex-direction: row;<br>            flex-wrap: wrap;<br>            justify-content: flex-start;<br>            width: 100%;<br>        }<br>        .wandb-col {<br>            display: flex;<br>            flex-direction: column;<br>            flex-basis: 100%;<br>            flex: 1;<br>            padding: 10px;<br>        }<br>    </style><br><div class=\"wandb-row\"><div class=\"wandb-col\"><h3>Run history:</h3><br/><table class=\"wandb\"><tr><td>epoch</td><td>▁▁▁▁▂▂▂▂▂▃▃▃▃▃▃▄▄▄▄▄▅▅▅▅▅▅▆▆▆▆▆▇▇▇▇▇▇▇██</td></tr><tr><td>final_validation_accuracy</td><td>▁</td></tr><tr><td>train_accuracy</td><td>▁▃▄▄▅▅▅▅▅▆▆▆▆▆▆▆▆▆▆▆▇▇▇▇▇▇▇▇▇▇▇▇▇▇▇▇▇▇▇█</td></tr><tr><td>train_loss</td><td>█▆▅▅▅▄▄▄▄▄▃▃▃▃▃▃▃▃▃▃▃▂▂▂▂▂▂▂▂▂▂▂▂▂▂▂▂▂▂▁</td></tr><tr><td>val_accuracy</td><td>▁▃▄▅▅▆▆▆▆▆▆▇▇▇▇▇▇▇▇▇▇█▇▇▇▇▇██████▇████▇█</td></tr><tr><td>val_loss</td><td>█▆▅▄▃▃▃▂▃▂▂▂▂▁▂▂▂▁▁▁▁▁▁▁▁▂▁▂▁▁▁▁▁▂▁▁▁▁▁▁</td></tr></table><br/></div><div class=\"wandb-col\"><h3>Run summary:</h3><br/><table class=\"wandb\"><tr><td>epoch</td><td>43</td></tr><tr><td>final_validation_accuracy</td><td>0.63221</td></tr><tr><td>train_accuracy</td><td>0.69132</td></tr><tr><td>train_loss</td><td>0.82547</td></tr><tr><td>val_accuracy</td><td>0.63583</td></tr><tr><td>val_loss</td><td>1.03267</td></tr></table><br/></div></div>"
            ]
          },
          "metadata": {}
        },
        {
          "output_type": "display_data",
          "data": {
            "text/plain": [
              "<IPython.core.display.HTML object>"
            ],
            "text/html": [
              " View run <strong style=\"color:#cdcd00\">Training_DeeperCNN</strong> at: <a href='https://wandb.ai/alaki22-free-university-of-tbilisi-/FER2013_Individual_Models/runs/6erlm9ue' target=\"_blank\">https://wandb.ai/alaki22-free-university-of-tbilisi-/FER2013_Individual_Models/runs/6erlm9ue</a><br> View project at: <a href='https://wandb.ai/alaki22-free-university-of-tbilisi-/FER2013_Individual_Models' target=\"_blank\">https://wandb.ai/alaki22-free-university-of-tbilisi-/FER2013_Individual_Models</a><br>Synced 5 W&B file(s), 1 media file(s), 2 artifact file(s) and 0 other file(s)"
            ]
          },
          "metadata": {}
        },
        {
          "output_type": "display_data",
          "data": {
            "text/plain": [
              "<IPython.core.display.HTML object>"
            ],
            "text/html": [
              "Find logs at: <code>./wandb/run-20250607_181801-6erlm9ue/logs</code>"
            ]
          },
          "metadata": {}
        },
        {
          "output_type": "display_data",
          "data": {
            "text/plain": [
              "<IPython.core.display.HTML object>"
            ],
            "text/html": [
              "Tracking run with wandb version 0.19.11"
            ]
          },
          "metadata": {}
        },
        {
          "output_type": "display_data",
          "data": {
            "text/plain": [
              "<IPython.core.display.HTML object>"
            ],
            "text/html": [
              "Run data is saved locally in <code>/content/wandb/run-20250607_183042-y1qvc6oi</code>"
            ]
          },
          "metadata": {}
        },
        {
          "output_type": "display_data",
          "data": {
            "text/plain": [
              "<IPython.core.display.HTML object>"
            ],
            "text/html": [
              "Syncing run <strong><a href='https://wandb.ai/alaki22-free-university-of-tbilisi-/FER2013_Individual_Models/runs/y1qvc6oi' target=\"_blank\">Training_EmotionVGG</a></strong> to <a href='https://wandb.ai/alaki22-free-university-of-tbilisi-/FER2013_Individual_Models' target=\"_blank\">Weights & Biases</a> (<a href='https://wandb.me/developer-guide' target=\"_blank\">docs</a>)<br>"
            ]
          },
          "metadata": {}
        },
        {
          "output_type": "display_data",
          "data": {
            "text/plain": [
              "<IPython.core.display.HTML object>"
            ],
            "text/html": [
              " View project at <a href='https://wandb.ai/alaki22-free-university-of-tbilisi-/FER2013_Individual_Models' target=\"_blank\">https://wandb.ai/alaki22-free-university-of-tbilisi-/FER2013_Individual_Models</a>"
            ]
          },
          "metadata": {}
        },
        {
          "output_type": "display_data",
          "data": {
            "text/plain": [
              "<IPython.core.display.HTML object>"
            ],
            "text/html": [
              " View run at <a href='https://wandb.ai/alaki22-free-university-of-tbilisi-/FER2013_Individual_Models/runs/y1qvc6oi' target=\"_blank\">https://wandb.ai/alaki22-free-university-of-tbilisi-/FER2013_Individual_Models/runs/y1qvc6oi</a>"
            ]
          },
          "metadata": {}
        },
        {
          "output_type": "stream",
          "name": "stdout",
          "text": [
            "\n",
            "===== Training EmotionVGG =====\n",
            "\n",
            "--- Training EmotionVGG on FULL dataset ---\n"
          ]
        },
        {
          "output_type": "stream",
          "name": "stderr",
          "text": [
            "/usr/local/lib/python3.11/dist-packages/torch/optim/lr_scheduler.py:62: UserWarning: The verbose parameter is deprecated. Please use get_last_lr() to access the learning rate.\n",
            "  warnings.warn(\n"
          ]
        },
        {
          "output_type": "stream",
          "name": "stdout",
          "text": [
            "Epoch [1/50], Train Loss: 1.5138, Train Acc: 0.4162, Val Loss: 1.2936, Val Acc: 0.5085\n",
            " --> Model saved: Best validation loss improved to 1.2936\n",
            "Epoch [2/50], Train Loss: 1.2755, Train Acc: 0.5136, Val Loss: 1.2010, Val Acc: 0.5350\n",
            " --> Model saved: Best validation loss improved to 1.2010\n",
            "Epoch [3/50], Train Loss: 1.1944, Train Acc: 0.5415, Val Loss: 1.1638, Val Acc: 0.5589\n",
            " --> Model saved: Best validation loss improved to 1.1638\n",
            "Epoch [4/50], Train Loss: 1.1489, Train Acc: 0.5629, Val Loss: 1.0829, Val Acc: 0.5851\n",
            " --> Model saved: Best validation loss improved to 1.0829\n",
            "Epoch [5/50], Train Loss: 1.1119, Train Acc: 0.5797, Val Loss: 1.0491, Val Acc: 0.6046\n",
            " --> Model saved: Best validation loss improved to 1.0491\n",
            "Epoch [6/50], Train Loss: 1.0869, Train Acc: 0.5905, Val Loss: 1.0410, Val Acc: 0.5977\n",
            " --> Model saved: Best validation loss improved to 1.0410\n",
            "Epoch [7/50], Train Loss: 1.0675, Train Acc: 0.5967, Val Loss: 1.0201, Val Acc: 0.6108\n",
            " --> Model saved: Best validation loss improved to 1.0201\n",
            "Epoch [8/50], Train Loss: 1.0443, Train Acc: 0.6057, Val Loss: 1.0337, Val Acc: 0.6046\n",
            " --> Validation loss did not improve. Epochs no improve: 1\n",
            "Epoch [9/50], Train Loss: 1.0331, Train Acc: 0.6114, Val Loss: 1.0445, Val Acc: 0.6096\n",
            " --> Validation loss did not improve. Epochs no improve: 2\n",
            "Epoch [10/50], Train Loss: 1.0149, Train Acc: 0.6191, Val Loss: 1.0356, Val Acc: 0.6046\n",
            " --> Validation loss did not improve. Epochs no improve: 3\n",
            "Epoch [11/50], Train Loss: 1.0050, Train Acc: 0.6226, Val Loss: 0.9952, Val Acc: 0.6294\n",
            " --> Model saved: Best validation loss improved to 0.9952\n",
            "Epoch [12/50], Train Loss: 0.9906, Train Acc: 0.6265, Val Loss: 0.9712, Val Acc: 0.6319\n",
            " --> Model saved: Best validation loss improved to 0.9712\n",
            "Epoch [13/50], Train Loss: 0.9844, Train Acc: 0.6281, Val Loss: 0.9750, Val Acc: 0.6252\n",
            " --> Validation loss did not improve. Epochs no improve: 1\n",
            "Epoch [14/50], Train Loss: 0.9691, Train Acc: 0.6349, Val Loss: 0.9613, Val Acc: 0.6369\n",
            " --> Model saved: Best validation loss improved to 0.9613\n",
            "Epoch [15/50], Train Loss: 0.9649, Train Acc: 0.6364, Val Loss: 0.9460, Val Acc: 0.6461\n",
            " --> Model saved: Best validation loss improved to 0.9460\n",
            "Epoch [16/50], Train Loss: 0.9470, Train Acc: 0.6435, Val Loss: 0.9858, Val Acc: 0.6400\n",
            " --> Validation loss did not improve. Epochs no improve: 1\n",
            "Epoch [17/50], Train Loss: 0.9410, Train Acc: 0.6444, Val Loss: 0.9319, Val Acc: 0.6556\n",
            " --> Model saved: Best validation loss improved to 0.9319\n",
            "Epoch [18/50], Train Loss: 0.9305, Train Acc: 0.6482, Val Loss: 0.9604, Val Acc: 0.6333\n",
            " --> Validation loss did not improve. Epochs no improve: 1\n",
            "Epoch [19/50], Train Loss: 0.9175, Train Acc: 0.6533, Val Loss: 0.9705, Val Acc: 0.6364\n",
            " --> Validation loss did not improve. Epochs no improve: 2\n",
            "Epoch [20/50], Train Loss: 0.9139, Train Acc: 0.6581, Val Loss: 0.9482, Val Acc: 0.6464\n",
            " --> Validation loss did not improve. Epochs no improve: 3\n",
            "Epoch [21/50], Train Loss: 0.9073, Train Acc: 0.6587, Val Loss: 0.9337, Val Acc: 0.6654\n",
            " --> Validation loss did not improve. Epochs no improve: 4\n",
            "Epoch [22/50], Train Loss: 0.8866, Train Acc: 0.6689, Val Loss: 0.9422, Val Acc: 0.6512\n",
            " --> Validation loss did not improve. Epochs no improve: 5\n",
            "Epoch [23/50], Train Loss: 0.8841, Train Acc: 0.6691, Val Loss: 0.9279, Val Acc: 0.6595\n",
            " --> Model saved: Best validation loss improved to 0.9279\n",
            "Epoch [24/50], Train Loss: 0.8779, Train Acc: 0.6676, Val Loss: 0.9237, Val Acc: 0.6609\n",
            " --> Model saved: Best validation loss improved to 0.9237\n",
            "Epoch [25/50], Train Loss: 0.8650, Train Acc: 0.6766, Val Loss: 0.9336, Val Acc: 0.6545\n",
            " --> Validation loss did not improve. Epochs no improve: 1\n",
            "Epoch [26/50], Train Loss: 0.8622, Train Acc: 0.6771, Val Loss: 0.9441, Val Acc: 0.6537\n",
            " --> Validation loss did not improve. Epochs no improve: 2\n",
            "Epoch [27/50], Train Loss: 0.8527, Train Acc: 0.6810, Val Loss: 0.9248, Val Acc: 0.6598\n",
            " --> Validation loss did not improve. Epochs no improve: 3\n",
            "Epoch [28/50], Train Loss: 0.8400, Train Acc: 0.6855, Val Loss: 0.9703, Val Acc: 0.6461\n",
            " --> Validation loss did not improve. Epochs no improve: 4\n",
            "Epoch [29/50], Train Loss: 0.8328, Train Acc: 0.6883, Val Loss: 0.9121, Val Acc: 0.6609\n",
            " --> Model saved: Best validation loss improved to 0.9121\n",
            "Epoch [30/50], Train Loss: 0.8248, Train Acc: 0.6917, Val Loss: 0.9136, Val Acc: 0.6643\n",
            " --> Validation loss did not improve. Epochs no improve: 1\n",
            "Epoch [31/50], Train Loss: 0.8141, Train Acc: 0.6935, Val Loss: 0.9154, Val Acc: 0.6726\n",
            " --> Validation loss did not improve. Epochs no improve: 2\n",
            "Epoch [32/50], Train Loss: 0.8107, Train Acc: 0.6968, Val Loss: 0.9135, Val Acc: 0.6712\n",
            " --> Validation loss did not improve. Epochs no improve: 3\n",
            "Epoch [33/50], Train Loss: 0.8029, Train Acc: 0.6988, Val Loss: 0.8962, Val Acc: 0.6748\n",
            " --> Model saved: Best validation loss improved to 0.8962\n",
            "Epoch [34/50], Train Loss: 0.7970, Train Acc: 0.7007, Val Loss: 0.9074, Val Acc: 0.6718\n",
            " --> Validation loss did not improve. Epochs no improve: 1\n",
            "Epoch [35/50], Train Loss: 0.7916, Train Acc: 0.7073, Val Loss: 0.8945, Val Acc: 0.6721\n",
            " --> Model saved: Best validation loss improved to 0.8945\n",
            "Epoch [36/50], Train Loss: 0.7760, Train Acc: 0.7106, Val Loss: 0.9451, Val Acc: 0.6623\n",
            " --> Validation loss did not improve. Epochs no improve: 1\n",
            "Epoch [37/50], Train Loss: 0.7824, Train Acc: 0.7054, Val Loss: 0.9371, Val Acc: 0.6651\n",
            " --> Validation loss did not improve. Epochs no improve: 2\n",
            "Epoch [38/50], Train Loss: 0.7703, Train Acc: 0.7109, Val Loss: 0.9161, Val Acc: 0.6718\n",
            " --> Validation loss did not improve. Epochs no improve: 3\n",
            "Epoch [39/50], Train Loss: 0.7637, Train Acc: 0.7143, Val Loss: 0.9033, Val Acc: 0.6676\n",
            " --> Validation loss did not improve. Epochs no improve: 4\n",
            "Epoch [40/50], Train Loss: 0.7590, Train Acc: 0.7157, Val Loss: 0.8902, Val Acc: 0.6768\n",
            " --> Model saved: Best validation loss improved to 0.8902\n",
            "Epoch [41/50], Train Loss: 0.7508, Train Acc: 0.7224, Val Loss: 0.9291, Val Acc: 0.6768\n",
            " --> Validation loss did not improve. Epochs no improve: 1\n",
            "Epoch [42/50], Train Loss: 0.7432, Train Acc: 0.7233, Val Loss: 0.9189, Val Acc: 0.6729\n",
            " --> Validation loss did not improve. Epochs no improve: 2\n",
            "Epoch [43/50], Train Loss: 0.7346, Train Acc: 0.7260, Val Loss: 0.9226, Val Acc: 0.6615\n",
            " --> Validation loss did not improve. Epochs no improve: 3\n",
            "Epoch [44/50], Train Loss: 0.7334, Train Acc: 0.7252, Val Loss: 0.9255, Val Acc: 0.6718\n",
            " --> Validation loss did not improve. Epochs no improve: 4\n",
            "Epoch [45/50], Train Loss: 0.7284, Train Acc: 0.7268, Val Loss: 0.9169, Val Acc: 0.6793\n",
            " --> Validation loss did not improve. Epochs no improve: 5\n",
            "Epoch [46/50], Train Loss: 0.7201, Train Acc: 0.7323, Val Loss: 0.9453, Val Acc: 0.6726\n",
            " --> Validation loss did not improve. Epochs no improve: 6\n",
            "Epoch [47/50], Train Loss: 0.7192, Train Acc: 0.7318, Val Loss: 0.9425, Val Acc: 0.6707\n",
            " --> Validation loss did not improve. Epochs no improve: 7\n",
            "Epoch [48/50], Train Loss: 0.7062, Train Acc: 0.7367, Val Loss: 0.9177, Val Acc: 0.6673\n",
            " --> Validation loss did not improve. Epochs no improve: 8\n",
            "Epoch [49/50], Train Loss: 0.6263, Train Acc: 0.7692, Val Loss: 0.9141, Val Acc: 0.6930\n",
            " --> Validation loss did not improve. Epochs no improve: 9\n",
            "Epoch [50/50], Train Loss: 0.5923, Train Acc: 0.7783, Val Loss: 0.9093, Val Acc: 0.6885\n",
            " --> Validation loss did not improve. Epochs no improve: 10\n",
            "Early stopping triggered after 10 epochs without improvement.\n",
            "Training complete.\n",
            "\n",
            "--- Evaluation for EmotionVGG on Validation Set (Best Model) ---\n",
            "Final Validation Accuracy: 0.6768\n"
          ]
        },
        {
          "output_type": "display_data",
          "data": {
            "text/plain": [
              "<IPython.core.display.HTML object>"
            ],
            "text/html": []
          },
          "metadata": {}
        },
        {
          "output_type": "display_data",
          "data": {
            "text/plain": [
              "<IPython.core.display.HTML object>"
            ],
            "text/html": [
              "<br>    <style><br>        .wandb-row {<br>            display: flex;<br>            flex-direction: row;<br>            flex-wrap: wrap;<br>            justify-content: flex-start;<br>            width: 100%;<br>        }<br>        .wandb-col {<br>            display: flex;<br>            flex-direction: column;<br>            flex-basis: 100%;<br>            flex: 1;<br>            padding: 10px;<br>        }<br>    </style><br><div class=\"wandb-row\"><div class=\"wandb-col\"><h3>Run history:</h3><br/><table class=\"wandb\"><tr><td>epoch</td><td>▁▁▁▂▂▂▂▂▂▃▃▃▃▃▃▄▄▄▄▄▅▅▅▅▅▅▆▆▆▆▆▇▇▇▇▇▇███</td></tr><tr><td>final_validation_accuracy</td><td>▁</td></tr><tr><td>train_accuracy</td><td>▁▃▃▄▄▄▅▅▅▅▅▅▅▅▅▆▆▆▆▆▆▆▆▆▆▆▆▆▆▇▇▇▇▇▇▇▇▇▇█</td></tr><tr><td>train_loss</td><td>█▆▆▅▅▅▄▄▄▄▄▄▄▄▄▃▃▃▃▃▃▃▃▃▃▃▃▃▃▃▂▂▂▂▂▂▂▂▂▁</td></tr><tr><td>val_accuracy</td><td>▁▂▃▅▄▅▅▅▆▆▆▆▆▇▆▆▇▇▇▇▇▇▆▇▇▇▇▇▇▇▇▇██▇█▇▇▇█</td></tr><tr><td>val_loss</td><td>█▆▆▄▄▃▃▄▄▃▂▂▂▃▂▂▂▂▂▂▂▂▂▂▁▁▁▁▁▁▂▁▁▁▂▂▁▂▂▁</td></tr></table><br/></div><div class=\"wandb-col\"><h3>Run summary:</h3><br/><table class=\"wandb\"><tr><td>epoch</td><td>50</td></tr><tr><td>final_validation_accuracy</td><td>0.67679</td></tr><tr><td>train_accuracy</td><td>0.77833</td></tr><tr><td>train_loss</td><td>0.59234</td></tr><tr><td>val_accuracy</td><td>0.68849</td></tr><tr><td>val_loss</td><td>0.90932</td></tr></table><br/></div></div>"
            ]
          },
          "metadata": {}
        },
        {
          "output_type": "display_data",
          "data": {
            "text/plain": [
              "<IPython.core.display.HTML object>"
            ],
            "text/html": [
              " View run <strong style=\"color:#cdcd00\">Training_EmotionVGG</strong> at: <a href='https://wandb.ai/alaki22-free-university-of-tbilisi-/FER2013_Individual_Models/runs/y1qvc6oi' target=\"_blank\">https://wandb.ai/alaki22-free-university-of-tbilisi-/FER2013_Individual_Models/runs/y1qvc6oi</a><br> View project at: <a href='https://wandb.ai/alaki22-free-university-of-tbilisi-/FER2013_Individual_Models' target=\"_blank\">https://wandb.ai/alaki22-free-university-of-tbilisi-/FER2013_Individual_Models</a><br>Synced 5 W&B file(s), 1 media file(s), 2 artifact file(s) and 0 other file(s)"
            ]
          },
          "metadata": {}
        },
        {
          "output_type": "display_data",
          "data": {
            "text/plain": [
              "<IPython.core.display.HTML object>"
            ],
            "text/html": [
              "Find logs at: <code>./wandb/run-20250607_183042-y1qvc6oi/logs</code>"
            ]
          },
          "metadata": {}
        },
        {
          "output_type": "display_data",
          "data": {
            "text/plain": [
              "<IPython.core.display.HTML object>"
            ],
            "text/html": [
              "Tracking run with wandb version 0.19.11"
            ]
          },
          "metadata": {}
        },
        {
          "output_type": "display_data",
          "data": {
            "text/plain": [
              "<IPython.core.display.HTML object>"
            ],
            "text/html": [
              "Run data is saved locally in <code>/content/wandb/run-20250607_185528-3gj1qwvk</code>"
            ]
          },
          "metadata": {}
        },
        {
          "output_type": "display_data",
          "data": {
            "text/plain": [
              "<IPython.core.display.HTML object>"
            ],
            "text/html": [
              "Syncing run <strong><a href='https://wandb.ai/alaki22-free-university-of-tbilisi-/FER2013_Individual_Models/runs/3gj1qwvk' target=\"_blank\">Training_CNN_GlobalAveragePooling</a></strong> to <a href='https://wandb.ai/alaki22-free-university-of-tbilisi-/FER2013_Individual_Models' target=\"_blank\">Weights & Biases</a> (<a href='https://wandb.me/developer-guide' target=\"_blank\">docs</a>)<br>"
            ]
          },
          "metadata": {}
        },
        {
          "output_type": "display_data",
          "data": {
            "text/plain": [
              "<IPython.core.display.HTML object>"
            ],
            "text/html": [
              " View project at <a href='https://wandb.ai/alaki22-free-university-of-tbilisi-/FER2013_Individual_Models' target=\"_blank\">https://wandb.ai/alaki22-free-university-of-tbilisi-/FER2013_Individual_Models</a>"
            ]
          },
          "metadata": {}
        },
        {
          "output_type": "display_data",
          "data": {
            "text/plain": [
              "<IPython.core.display.HTML object>"
            ],
            "text/html": [
              " View run at <a href='https://wandb.ai/alaki22-free-university-of-tbilisi-/FER2013_Individual_Models/runs/3gj1qwvk' target=\"_blank\">https://wandb.ai/alaki22-free-university-of-tbilisi-/FER2013_Individual_Models/runs/3gj1qwvk</a>"
            ]
          },
          "metadata": {}
        },
        {
          "output_type": "stream",
          "name": "stdout",
          "text": [
            "\n",
            "===== Training CNN_GlobalAveragePooling =====\n",
            "\n",
            "--- Training CNN_GlobalAveragePooling on FULL dataset ---\n"
          ]
        },
        {
          "output_type": "stream",
          "name": "stderr",
          "text": [
            "/usr/local/lib/python3.11/dist-packages/torch/optim/lr_scheduler.py:62: UserWarning: The verbose parameter is deprecated. Please use get_last_lr() to access the learning rate.\n",
            "  warnings.warn(\n"
          ]
        },
        {
          "output_type": "stream",
          "name": "stdout",
          "text": [
            "Epoch [1/50], Train Loss: 1.7354, Train Acc: 0.2924, Val Loss: 1.5481, Val Acc: 0.4149\n",
            " --> Model saved: Best validation loss improved to 1.5481\n",
            "Epoch [2/50], Train Loss: 1.4297, Train Acc: 0.4480, Val Loss: 1.5595, Val Acc: 0.3761\n",
            " --> Validation loss did not improve. Epochs no improve: 1\n",
            "Epoch [3/50], Train Loss: 1.2920, Train Acc: 0.5095, Val Loss: 1.4024, Val Acc: 0.4664\n",
            " --> Model saved: Best validation loss improved to 1.4024\n",
            "Epoch [4/50], Train Loss: 1.2194, Train Acc: 0.5395, Val Loss: 1.1628, Val Acc: 0.5676\n",
            " --> Model saved: Best validation loss improved to 1.1628\n",
            "Epoch [5/50], Train Loss: 1.1620, Train Acc: 0.5603, Val Loss: 1.1598, Val Acc: 0.5531\n",
            " --> Model saved: Best validation loss improved to 1.1598\n",
            "Epoch [6/50], Train Loss: 1.1241, Train Acc: 0.5725, Val Loss: 1.1828, Val Acc: 0.5573\n",
            " --> Validation loss did not improve. Epochs no improve: 1\n",
            "Epoch [7/50], Train Loss: 1.0925, Train Acc: 0.5898, Val Loss: 1.3283, Val Acc: 0.5146\n",
            " --> Validation loss did not improve. Epochs no improve: 2\n",
            "Epoch [8/50], Train Loss: 1.0685, Train Acc: 0.5978, Val Loss: 1.0409, Val Acc: 0.6021\n",
            " --> Model saved: Best validation loss improved to 1.0409\n",
            "Epoch [9/50], Train Loss: 1.0436, Train Acc: 0.6070, Val Loss: 1.0765, Val Acc: 0.5876\n",
            " --> Validation loss did not improve. Epochs no improve: 1\n",
            "Epoch [10/50], Train Loss: 1.0210, Train Acc: 0.6165, Val Loss: 1.0017, Val Acc: 0.6188\n",
            " --> Model saved: Best validation loss improved to 1.0017\n",
            "Epoch [11/50], Train Loss: 1.0041, Train Acc: 0.6228, Val Loss: 1.0348, Val Acc: 0.6163\n",
            " --> Validation loss did not improve. Epochs no improve: 1\n",
            "Epoch [12/50], Train Loss: 0.9851, Train Acc: 0.6317, Val Loss: 1.0222, Val Acc: 0.6230\n",
            " --> Validation loss did not improve. Epochs no improve: 2\n",
            "Epoch [13/50], Train Loss: 0.9654, Train Acc: 0.6422, Val Loss: 1.0259, Val Acc: 0.6183\n",
            " --> Validation loss did not improve. Epochs no improve: 3\n",
            "Epoch [14/50], Train Loss: 0.9472, Train Acc: 0.6479, Val Loss: 1.0614, Val Acc: 0.6094\n",
            " --> Validation loss did not improve. Epochs no improve: 4\n",
            "Epoch [15/50], Train Loss: 0.9386, Train Acc: 0.6481, Val Loss: 0.9676, Val Acc: 0.6411\n",
            " --> Model saved: Best validation loss improved to 0.9676\n",
            "Epoch [16/50], Train Loss: 0.9155, Train Acc: 0.6610, Val Loss: 0.9950, Val Acc: 0.6202\n",
            " --> Validation loss did not improve. Epochs no improve: 1\n",
            "Epoch [17/50], Train Loss: 0.8958, Train Acc: 0.6655, Val Loss: 0.9395, Val Acc: 0.6467\n",
            " --> Model saved: Best validation loss improved to 0.9395\n",
            "Epoch [18/50], Train Loss: 0.8868, Train Acc: 0.6690, Val Loss: 1.0330, Val Acc: 0.6264\n",
            " --> Validation loss did not improve. Epochs no improve: 1\n",
            "Epoch [19/50], Train Loss: 0.8733, Train Acc: 0.6757, Val Loss: 1.0065, Val Acc: 0.6450\n",
            " --> Validation loss did not improve. Epochs no improve: 2\n",
            "Epoch [20/50], Train Loss: 0.8570, Train Acc: 0.6808, Val Loss: 1.0888, Val Acc: 0.6102\n",
            " --> Validation loss did not improve. Epochs no improve: 3\n",
            "Epoch [21/50], Train Loss: 0.8426, Train Acc: 0.6826, Val Loss: 1.0157, Val Acc: 0.6333\n",
            " --> Validation loss did not improve. Epochs no improve: 4\n",
            "Epoch [22/50], Train Loss: 0.8319, Train Acc: 0.6891, Val Loss: 0.9815, Val Acc: 0.6378\n",
            " --> Validation loss did not improve. Epochs no improve: 5\n",
            "Epoch [23/50], Train Loss: 0.8132, Train Acc: 0.6988, Val Loss: 0.9680, Val Acc: 0.6464\n",
            " --> Validation loss did not improve. Epochs no improve: 6\n",
            "Epoch [24/50], Train Loss: 0.7983, Train Acc: 0.7060, Val Loss: 0.9836, Val Acc: 0.6314\n",
            " --> Validation loss did not improve. Epochs no improve: 7\n",
            "Epoch [25/50], Train Loss: 0.7860, Train Acc: 0.7092, Val Loss: 1.0245, Val Acc: 0.6353\n",
            " --> Validation loss did not improve. Epochs no improve: 8\n",
            "Epoch [26/50], Train Loss: 0.7042, Train Acc: 0.7397, Val Loss: 0.9413, Val Acc: 0.6673\n",
            " --> Validation loss did not improve. Epochs no improve: 9\n",
            "Epoch [27/50], Train Loss: 0.6692, Train Acc: 0.7546, Val Loss: 0.9674, Val Acc: 0.6732\n",
            " --> Validation loss did not improve. Epochs no improve: 10\n",
            "Early stopping triggered after 10 epochs without improvement.\n",
            "Training complete.\n",
            "\n",
            "--- Evaluation for CNN_GlobalAveragePooling on Validation Set (Best Model) ---\n",
            "Final Validation Accuracy: 0.6467\n"
          ]
        },
        {
          "output_type": "display_data",
          "data": {
            "text/plain": [
              "<IPython.core.display.HTML object>"
            ],
            "text/html": []
          },
          "metadata": {}
        },
        {
          "output_type": "display_data",
          "data": {
            "text/plain": [
              "<IPython.core.display.HTML object>"
            ],
            "text/html": [
              "<br>    <style><br>        .wandb-row {<br>            display: flex;<br>            flex-direction: row;<br>            flex-wrap: wrap;<br>            justify-content: flex-start;<br>            width: 100%;<br>        }<br>        .wandb-col {<br>            display: flex;<br>            flex-direction: column;<br>            flex-basis: 100%;<br>            flex: 1;<br>            padding: 10px;<br>        }<br>    </style><br><div class=\"wandb-row\"><div class=\"wandb-col\"><h3>Run history:</h3><br/><table class=\"wandb\"><tr><td>epoch</td><td>▁▁▂▂▂▂▃▃▃▃▄▄▄▅▅▅▅▆▆▆▆▇▇▇▇██</td></tr><tr><td>final_validation_accuracy</td><td>▁</td></tr><tr><td>train_accuracy</td><td>▁▃▄▅▅▅▆▆▆▆▆▆▆▆▆▇▇▇▇▇▇▇▇▇▇██</td></tr><tr><td>train_loss</td><td>█▆▅▅▄▄▄▄▃▃▃▃▃▃▃▃▂▂▂▂▂▂▂▂▂▁▁</td></tr><tr><td>val_accuracy</td><td>▂▁▃▆▅▅▄▆▆▇▇▇▇▆▇▇▇▇▇▇▇▇▇▇▇██</td></tr><tr><td>val_loss</td><td>██▆▄▃▄▅▂▃▂▂▂▂▂▁▂▁▂▂▃▂▁▁▁▂▁▁</td></tr></table><br/></div><div class=\"wandb-col\"><h3>Run summary:</h3><br/><table class=\"wandb\"><tr><td>epoch</td><td>27</td></tr><tr><td>final_validation_accuracy</td><td>0.6467</td></tr><tr><td>train_accuracy</td><td>0.75461</td></tr><tr><td>train_loss</td><td>0.66923</td></tr><tr><td>val_accuracy</td><td>0.67317</td></tr><tr><td>val_loss</td><td>0.96744</td></tr></table><br/></div></div>"
            ]
          },
          "metadata": {}
        },
        {
          "output_type": "display_data",
          "data": {
            "text/plain": [
              "<IPython.core.display.HTML object>"
            ],
            "text/html": [
              " View run <strong style=\"color:#cdcd00\">Training_CNN_GlobalAveragePooling</strong> at: <a href='https://wandb.ai/alaki22-free-university-of-tbilisi-/FER2013_Individual_Models/runs/3gj1qwvk' target=\"_blank\">https://wandb.ai/alaki22-free-university-of-tbilisi-/FER2013_Individual_Models/runs/3gj1qwvk</a><br> View project at: <a href='https://wandb.ai/alaki22-free-university-of-tbilisi-/FER2013_Individual_Models' target=\"_blank\">https://wandb.ai/alaki22-free-university-of-tbilisi-/FER2013_Individual_Models</a><br>Synced 5 W&B file(s), 1 media file(s), 2 artifact file(s) and 0 other file(s)"
            ]
          },
          "metadata": {}
        },
        {
          "output_type": "display_data",
          "data": {
            "text/plain": [
              "<IPython.core.display.HTML object>"
            ],
            "text/html": [
              "Find logs at: <code>./wandb/run-20250607_185528-3gj1qwvk/logs</code>"
            ]
          },
          "metadata": {}
        },
        {
          "output_type": "display_data",
          "data": {
            "text/plain": [
              "<IPython.core.display.HTML object>"
            ],
            "text/html": [
              "Tracking run with wandb version 0.19.11"
            ]
          },
          "metadata": {}
        },
        {
          "output_type": "display_data",
          "data": {
            "text/plain": [
              "<IPython.core.display.HTML object>"
            ],
            "text/html": [
              "Run data is saved locally in <code>/content/wandb/run-20250607_190435-kyrdlspn</code>"
            ]
          },
          "metadata": {}
        },
        {
          "output_type": "display_data",
          "data": {
            "text/plain": [
              "<IPython.core.display.HTML object>"
            ],
            "text/html": [
              "Syncing run <strong><a href='https://wandb.ai/alaki22-free-university-of-tbilisi-/FER2013_Individual_Models/runs/kyrdlspn' target=\"_blank\">Training_BasicResidualCNN</a></strong> to <a href='https://wandb.ai/alaki22-free-university-of-tbilisi-/FER2013_Individual_Models' target=\"_blank\">Weights & Biases</a> (<a href='https://wandb.me/developer-guide' target=\"_blank\">docs</a>)<br>"
            ]
          },
          "metadata": {}
        },
        {
          "output_type": "display_data",
          "data": {
            "text/plain": [
              "<IPython.core.display.HTML object>"
            ],
            "text/html": [
              " View project at <a href='https://wandb.ai/alaki22-free-university-of-tbilisi-/FER2013_Individual_Models' target=\"_blank\">https://wandb.ai/alaki22-free-university-of-tbilisi-/FER2013_Individual_Models</a>"
            ]
          },
          "metadata": {}
        },
        {
          "output_type": "display_data",
          "data": {
            "text/plain": [
              "<IPython.core.display.HTML object>"
            ],
            "text/html": [
              " View run at <a href='https://wandb.ai/alaki22-free-university-of-tbilisi-/FER2013_Individual_Models/runs/kyrdlspn' target=\"_blank\">https://wandb.ai/alaki22-free-university-of-tbilisi-/FER2013_Individual_Models/runs/kyrdlspn</a>"
            ]
          },
          "metadata": {}
        },
        {
          "output_type": "stream",
          "name": "stdout",
          "text": [
            "\n",
            "===== Training BasicResidualCNN =====\n",
            "\n",
            "--- Training BasicResidualCNN on FULL dataset ---\n"
          ]
        },
        {
          "output_type": "stream",
          "name": "stderr",
          "text": [
            "/usr/local/lib/python3.11/dist-packages/torch/optim/lr_scheduler.py:62: UserWarning: The verbose parameter is deprecated. Please use get_last_lr() to access the learning rate.\n",
            "  warnings.warn(\n"
          ]
        },
        {
          "output_type": "stream",
          "name": "stdout",
          "text": [
            "Epoch [1/50], Train Loss: 1.5375, Train Acc: 0.3936, Val Loss: 1.4109, Val Acc: 0.4737\n",
            " --> Model saved: Best validation loss improved to 1.4109\n",
            "Epoch [2/50], Train Loss: 1.2752, Train Acc: 0.5121, Val Loss: 1.2429, Val Acc: 0.5185\n",
            " --> Model saved: Best validation loss improved to 1.2429\n",
            "Epoch [3/50], Train Loss: 1.1865, Train Acc: 0.5461, Val Loss: 1.2397, Val Acc: 0.5308\n",
            " --> Model saved: Best validation loss improved to 1.2397\n",
            "Epoch [4/50], Train Loss: 1.1339, Train Acc: 0.5682, Val Loss: 1.1643, Val Acc: 0.5559\n",
            " --> Model saved: Best validation loss improved to 1.1643\n",
            "Epoch [5/50], Train Loss: 1.0938, Train Acc: 0.5870, Val Loss: 1.1200, Val Acc: 0.5698\n",
            " --> Model saved: Best validation loss improved to 1.1200\n",
            "Epoch [6/50], Train Loss: 1.0704, Train Acc: 0.5941, Val Loss: 1.1278, Val Acc: 0.5762\n",
            " --> Validation loss did not improve. Epochs no improve: 1\n",
            "Epoch [7/50], Train Loss: 1.0385, Train Acc: 0.6076, Val Loss: 1.0978, Val Acc: 0.5687\n",
            " --> Model saved: Best validation loss improved to 1.0978\n",
            "Epoch [8/50], Train Loss: 1.0186, Train Acc: 0.6128, Val Loss: 1.0671, Val Acc: 0.6035\n",
            " --> Model saved: Best validation loss improved to 1.0671\n",
            "Epoch [9/50], Train Loss: 0.9972, Train Acc: 0.6236, Val Loss: 1.0964, Val Acc: 0.5907\n",
            " --> Validation loss did not improve. Epochs no improve: 1\n",
            "Epoch [10/50], Train Loss: 0.9812, Train Acc: 0.6304, Val Loss: 1.1203, Val Acc: 0.5876\n",
            " --> Validation loss did not improve. Epochs no improve: 2\n",
            "Epoch [11/50], Train Loss: 0.9581, Train Acc: 0.6373, Val Loss: 1.0655, Val Acc: 0.6133\n",
            " --> Model saved: Best validation loss improved to 1.0655\n",
            "Epoch [12/50], Train Loss: 0.9385, Train Acc: 0.6466, Val Loss: 0.9817, Val Acc: 0.6266\n",
            " --> Model saved: Best validation loss improved to 0.9817\n",
            "Epoch [13/50], Train Loss: 0.9232, Train Acc: 0.6520, Val Loss: 0.9884, Val Acc: 0.6381\n",
            " --> Validation loss did not improve. Epochs no improve: 1\n",
            "Epoch [14/50], Train Loss: 0.9026, Train Acc: 0.6611, Val Loss: 1.0126, Val Acc: 0.6133\n",
            " --> Validation loss did not improve. Epochs no improve: 2\n",
            "Epoch [15/50], Train Loss: 0.8854, Train Acc: 0.6675, Val Loss: 0.9612, Val Acc: 0.6283\n",
            " --> Model saved: Best validation loss improved to 0.9612\n",
            "Epoch [16/50], Train Loss: 0.8663, Train Acc: 0.6746, Val Loss: 0.9855, Val Acc: 0.6278\n",
            " --> Validation loss did not improve. Epochs no improve: 1\n",
            "Epoch [17/50], Train Loss: 0.8536, Train Acc: 0.6796, Val Loss: 0.9552, Val Acc: 0.6453\n",
            " --> Model saved: Best validation loss improved to 0.9552\n",
            "Epoch [18/50], Train Loss: 0.8320, Train Acc: 0.6875, Val Loss: 0.9876, Val Acc: 0.6219\n",
            " --> Validation loss did not improve. Epochs no improve: 1\n",
            "Epoch [19/50], Train Loss: 0.8201, Train Acc: 0.6907, Val Loss: 1.0164, Val Acc: 0.6233\n",
            " --> Validation loss did not improve. Epochs no improve: 2\n",
            "Epoch [20/50], Train Loss: 0.8048, Train Acc: 0.6989, Val Loss: 1.0461, Val Acc: 0.6250\n",
            " --> Validation loss did not improve. Epochs no improve: 3\n",
            "Epoch [21/50], Train Loss: 0.7867, Train Acc: 0.7060, Val Loss: 0.9960, Val Acc: 0.6361\n",
            " --> Validation loss did not improve. Epochs no improve: 4\n",
            "Epoch [22/50], Train Loss: 0.7692, Train Acc: 0.7131, Val Loss: 1.0139, Val Acc: 0.6389\n",
            " --> Validation loss did not improve. Epochs no improve: 5\n",
            "Epoch [23/50], Train Loss: 0.7538, Train Acc: 0.7194, Val Loss: 1.0127, Val Acc: 0.6395\n",
            " --> Validation loss did not improve. Epochs no improve: 6\n",
            "Epoch [24/50], Train Loss: 0.7304, Train Acc: 0.7270, Val Loss: 1.0019, Val Acc: 0.6447\n",
            " --> Validation loss did not improve. Epochs no improve: 7\n",
            "Epoch [25/50], Train Loss: 0.7176, Train Acc: 0.7317, Val Loss: 1.0159, Val Acc: 0.6406\n",
            " --> Validation loss did not improve. Epochs no improve: 8\n",
            "Epoch [26/50], Train Loss: 0.6223, Train Acc: 0.7722, Val Loss: 1.0167, Val Acc: 0.6537\n",
            " --> Validation loss did not improve. Epochs no improve: 9\n",
            "Epoch [27/50], Train Loss: 0.5729, Train Acc: 0.7870, Val Loss: 1.0134, Val Acc: 0.6601\n",
            " --> Validation loss did not improve. Epochs no improve: 10\n",
            "Early stopping triggered after 10 epochs without improvement.\n",
            "Training complete.\n",
            "\n",
            "--- Evaluation for BasicResidualCNN on Validation Set (Best Model) ---\n",
            "Final Validation Accuracy: 0.6453\n"
          ]
        },
        {
          "output_type": "display_data",
          "data": {
            "text/plain": [
              "<IPython.core.display.HTML object>"
            ],
            "text/html": []
          },
          "metadata": {}
        },
        {
          "output_type": "display_data",
          "data": {
            "text/plain": [
              "<IPython.core.display.HTML object>"
            ],
            "text/html": [
              "<br>    <style><br>        .wandb-row {<br>            display: flex;<br>            flex-direction: row;<br>            flex-wrap: wrap;<br>            justify-content: flex-start;<br>            width: 100%;<br>        }<br>        .wandb-col {<br>            display: flex;<br>            flex-direction: column;<br>            flex-basis: 100%;<br>            flex: 1;<br>            padding: 10px;<br>        }<br>    </style><br><div class=\"wandb-row\"><div class=\"wandb-col\"><h3>Run history:</h3><br/><table class=\"wandb\"><tr><td>epoch</td><td>▁▁▂▂▂▂▃▃▃▃▄▄▄▅▅▅▅▆▆▆▆▇▇▇▇██</td></tr><tr><td>final_validation_accuracy</td><td>▁</td></tr><tr><td>train_accuracy</td><td>▁▃▄▄▄▅▅▅▅▅▅▆▆▆▆▆▆▆▆▆▇▇▇▇▇██</td></tr><tr><td>train_loss</td><td>█▆▅▅▅▅▄▄▄▄▄▄▄▃▃▃▃▃▃▃▃▂▂▂▂▁▁</td></tr><tr><td>val_accuracy</td><td>▁▃▃▄▅▅▅▆▅▅▆▇▇▆▇▇▇▇▇▇▇▇▇▇▇██</td></tr><tr><td>val_loss</td><td>█▅▅▄▄▄▃▃▃▄▃▁▂▂▁▁▁▁▂▂▂▂▂▂▂▂▂</td></tr></table><br/></div><div class=\"wandb-col\"><h3>Run summary:</h3><br/><table class=\"wandb\"><tr><td>epoch</td><td>27</td></tr><tr><td>final_validation_accuracy</td><td>0.64531</td></tr><tr><td>train_accuracy</td><td>0.78704</td></tr><tr><td>train_loss</td><td>0.57295</td></tr><tr><td>val_accuracy</td><td>0.66007</td></tr><tr><td>val_loss</td><td>1.01336</td></tr></table><br/></div></div>"
            ]
          },
          "metadata": {}
        },
        {
          "output_type": "display_data",
          "data": {
            "text/plain": [
              "<IPython.core.display.HTML object>"
            ],
            "text/html": [
              " View run <strong style=\"color:#cdcd00\">Training_BasicResidualCNN</strong> at: <a href='https://wandb.ai/alaki22-free-university-of-tbilisi-/FER2013_Individual_Models/runs/kyrdlspn' target=\"_blank\">https://wandb.ai/alaki22-free-university-of-tbilisi-/FER2013_Individual_Models/runs/kyrdlspn</a><br> View project at: <a href='https://wandb.ai/alaki22-free-university-of-tbilisi-/FER2013_Individual_Models' target=\"_blank\">https://wandb.ai/alaki22-free-university-of-tbilisi-/FER2013_Individual_Models</a><br>Synced 5 W&B file(s), 1 media file(s), 2 artifact file(s) and 0 other file(s)"
            ]
          },
          "metadata": {}
        },
        {
          "output_type": "display_data",
          "data": {
            "text/plain": [
              "<IPython.core.display.HTML object>"
            ],
            "text/html": [
              "Find logs at: <code>./wandb/run-20250607_190435-kyrdlspn/logs</code>"
            ]
          },
          "metadata": {}
        },
        {
          "output_type": "stream",
          "name": "stdout",
          "text": [
            "\n",
            "===== All Models Training Complete =====\n",
            "\n",
            "--- Summary of Model Performance ---\n",
            "\n",
            "Model: SimpleCNN\n",
            "  Final Validation Accuracy: 0.5954\n",
            "\n",
            "Model: DeeperCNN\n",
            "  Final Validation Accuracy: 0.6322\n",
            "\n",
            "Model: EmotionVGG\n",
            "  Final Validation Accuracy: 0.6768\n",
            "\n",
            "Model: CNN_GlobalAveragePooling\n",
            "  Final Validation Accuracy: 0.6467\n",
            "\n",
            "Model: BasicResidualCNN\n",
            "  Final Validation Accuracy: 0.6453\n"
          ]
        }
      ]
    },
    {
      "cell_type": "code",
      "source": [
        "class BasicResidualCNN_Small(nn.Module):\n",
        "    def __init__(self, num_classes=7):\n",
        "        super(BasicResidualCNN_Small, self).__init__()\n",
        "        self.in_channels = 32\n",
        "\n",
        "        self.stem = nn.Sequential(\n",
        "            nn.Conv2d(1, 32, kernel_size=3, padding=1, bias=False),\n",
        "            nn.BatchNorm2d(32),\n",
        "            nn.ReLU(inplace=True),\n",
        "            nn.MaxPool2d(kernel_size=2, stride=2)\n",
        "        )\n",
        "\n",
        "        self.layer1 = self._make_layer(32, 2, stride=1)\n",
        "        self.layer2 = self._make_layer(64, 2, stride=2)\n",
        "        self.layer3 = self._make_layer(128, 2, stride=2)\n",
        "\n",
        "        self.dropout = nn.Dropout(0.4)\n",
        "        self.global_pool = nn.AdaptiveAvgPool2d((1, 1))\n",
        "        self.classifier = nn.Linear(128, num_classes)\n",
        "\n",
        "    def _make_layer(self, out_channels, blocks, stride):\n",
        "        downsample = None\n",
        "        if stride != 1 or self.in_channels != out_channels:\n",
        "            downsample = nn.Sequential(\n",
        "                nn.Conv2d(self.in_channels, out_channels, kernel_size=1, stride=stride, bias=False),\n",
        "                nn.BatchNorm2d(out_channels),\n",
        "            )\n",
        "\n",
        "        layers = [ResidualBlock(self.in_channels, out_channels, stride, downsample)]\n",
        "        self.in_channels = out_channels\n",
        "        for _ in range(1, blocks):\n",
        "            layers.append(ResidualBlock(out_channels, out_channels))\n",
        "\n",
        "        return nn.Sequential(*layers)\n",
        "\n",
        "    def forward(self, x):\n",
        "        x = self.stem(x)\n",
        "        x = self.layer1(x)\n",
        "        x = self.layer2(x)\n",
        "        x = self.layer3(x)\n",
        "        x = self.dropout(x)\n",
        "        x = self.global_pool(x)\n",
        "        x = torch.flatten(x, 1)\n",
        "        x = self.classifier(x)\n",
        "        return x"
      ],
      "metadata": {
        "id": "SCLorxWIy71L"
      },
      "execution_count": 60,
      "outputs": []
    },
    {
      "cell_type": "code",
      "source": [
        "class CNN_GlobalAveragePooling_Alt(nn.Module):\n",
        "    def __init__(self, num_classes=7):\n",
        "        super(CNN_GlobalAveragePooling_Alt, self).__init__()\n",
        "        self.features = nn.Sequential(\n",
        "            nn.Conv2d(1, 64, kernel_size=5, padding=2),\n",
        "            nn.BatchNorm2d(64),\n",
        "            nn.ReLU(inplace=True),\n",
        "            nn.MaxPool2d(2),\n",
        "\n",
        "            nn.Conv2d(64, 128, kernel_size=3, padding=1),\n",
        "            nn.BatchNorm2d(128),\n",
        "            nn.ReLU(inplace=True),\n",
        "            nn.MaxPool2d(2),\n",
        "\n",
        "            nn.Conv2d(128, 256, kernel_size=3, padding=1),\n",
        "            nn.BatchNorm2d(256),\n",
        "            nn.ReLU(inplace=True),\n",
        "            nn.AdaptiveAvgPool2d((1, 1))\n",
        "        )\n",
        "        self.dropout = nn.Dropout(0.5)\n",
        "        self.classifier = nn.Linear(256, num_classes)\n",
        "\n",
        "    def forward(self, x):\n",
        "        x = self.features(x)\n",
        "        x = torch.flatten(x, 1)\n",
        "        x = self.dropout(x)\n",
        "        x = self.classifier(x)\n",
        "        return x"
      ],
      "metadata": {
        "id": "jRfFxqtj0Wgd"
      },
      "execution_count": 61,
      "outputs": []
    },
    {
      "cell_type": "code",
      "source": [
        "new_results = {}\n",
        "new_models_to_train = {\n",
        "    \"CNN_GlobalAvgPool\": CNN_GlobalAveragePooling(),\n",
        "    \"CNN_GlobalAvgPool_Alt\": CNN_GlobalAveragePooling_Alt(),\n",
        "}\n",
        "\n",
        "\n",
        "for model_name, model_instance in new_models_to_train.items():\n",
        "\n",
        "    with wandb.init(project=\"FER2013_New_Models_Training\",\n",
        "                    name=f\"Training_{model_name}\",\n",
        "                    config={\n",
        "                        \"model_architecture\": model_name,\n",
        "                        \"learning_rate\": learning_rate,\n",
        "                        \"optimizer\": fixed_optimizer_name,\n",
        "                        \"scheduler_patience\": fixed_scheduler_patience,\n",
        "                        \"num_epochs\": num_epochs,\n",
        "                        \"early_stopping_patience\": fixed_scheduler_patience,\n",
        "                        \"min_delta\": min_delta\n",
        "                    },\n",
        "                    reinit=True) as run:\n",
        "\n",
        "      print(f\"\\n===== Training {model_name} =====\")\n",
        "      current_model = model_instance.to(device)\n",
        "      current_optimizer = optim.AdamW(current_model.parameters(), lr=5e-4)\n",
        "      current_scheduler = optim.lr_scheduler.ReduceLROnPlateau(\n",
        "          current_optimizer, mode='min', factor=0.5, patience=3, verbose=True\n",
        "      )\n",
        "\n",
        "      current_best_val_loss = float('inf')\n",
        "      current_epochs_no_improve = 0\n",
        "      current_model_save_path = f'best_{model_name.lower()}.pth'\n",
        "\n",
        "      history = train_model_optimized(\n",
        "          current_model,\n",
        "          train_loader,\n",
        "          val_loader,\n",
        "          criterion,\n",
        "          current_optimizer,\n",
        "          current_scheduler,\n",
        "          num_epochs=50,\n",
        "          early_stopping_patience=7,\n",
        "          min_delta=0.0005,\n",
        "          model_save_path=current_model_save_path\n",
        "      )\n",
        "\n",
        "      train_losses, val_losses, train_accuracies, val_accuracies = history\n",
        "\n",
        "      for epoch_idx in range(len(train_accuracies)):\n",
        "            wandb.log({\n",
        "                \"epoch\": epoch_idx + 1,\n",
        "                \"train_loss\": train_losses[epoch_idx],\n",
        "                \"val_loss\": val_losses[epoch_idx],\n",
        "                \"train_accuracy\": train_accuracies[epoch_idx],\n",
        "                \"val_accuracy\": val_accuracies[epoch_idx]\n",
        "            })\n",
        "\n",
        "      fig_curves, axes_curves = plt.subplots(1, 2, figsize=(12, 4))\n",
        "      axes_curves[0].plot(train_accuracies, label='Train Accuracy')\n",
        "      axes_curves[0].plot(val_accuracies, label='Val Accuracy')\n",
        "      axes_curves[0].set_title(f'{model_name} - Accuracy')\n",
        "      axes_curves[0].set_xlabel('Epoch')\n",
        "      axes_curves[0].set_ylabel('Accuracy')\n",
        "      axes_curves[0].legend()\n",
        "\n",
        "      axes_curves[1].plot(train_losses, label='Train Loss')\n",
        "      axes_curves[1].plot(val_losses, label='Val Loss')\n",
        "      axes_curves[1].set_title(f'{model_name} - Loss')\n",
        "      axes_curves[1].set_xlabel('Epoch')\n",
        "      axes_curves[1].set_ylabel('Loss')\n",
        "      axes_curves[1].legend()\n",
        "      plt.tight_layout()\n",
        "      wandb.log({\"training_validation_curves\": wandb.Image(fig_curves)})\n",
        "      plt.close(fig_curves)\n",
        "\n",
        "      current_model.load_state_dict(torch.load(current_model_save_path))\n",
        "      current_model.eval()\n",
        "\n",
        "      all_preds = []\n",
        "      all_labels = []\n",
        "\n",
        "      with torch.no_grad():\n",
        "            for images, labels in val_loader:\n",
        "                images, labels = images.to(device), labels.to(device)\n",
        "                outputs = current_model(images)\n",
        "                _, predicted = torch.max(outputs.data, 1)\n",
        "                all_preds.extend(predicted.cpu().numpy().tolist())\n",
        "                all_labels.extend(labels.cpu().numpy().tolist())\n",
        "\n",
        "      final_val_accuracy = accuracy_score(all_labels, all_preds)\n",
        "      new_results[model_name] = {\n",
        "          'train_history': history,\n",
        "          'final_val_accuracy': final_val_accuracy\n",
        "      }\n",
        "\n",
        "\n",
        "      print(f\"\\n--- Evaluation for {model_name} on Validation Set (Best Model) ---\")\n",
        "      print(f\"Final Validation Accuracy: {final_val_accuracy:.4f}\")\n",
        "\n",
        "      wandb.log({\n",
        "          \"final_validation_accuracy\": final_val_accuracy,\n",
        "      })\n",
        "\n",
        "      print(f\"\\n--- Evaluation for {model_name} on Test Set (Best Model) ---\")\n",
        "      all_preds_test = []\n",
        "      all_labels_test = []\n",
        "\n",
        "      with torch.no_grad():\n",
        "          for images, labels in test_loader:\n",
        "              images, labels = images.to(device), labels.to(device)\n",
        "              outputs = current_model(images)\n",
        "              _, predicted = torch.max(outputs.data, 1)\n",
        "              all_preds_test.extend(predicted.cpu().numpy().tolist())\n",
        "              all_labels_test.extend(labels.cpu().numpy().tolist())\n",
        "\n",
        "      final_test_accuracy = accuracy_score(all_labels_test, all_preds_test)\n",
        "\n",
        "      new_results[model_name]['final_test_accuracy'] = final_test_accuracy\n",
        "\n",
        "      print(f\"Final Test Accuracy: {final_test_accuracy:.4f}\")\n",
        "\n",
        "\n",
        "      wandb.log({\n",
        "          \"final_test_accuracy\": final_test_accuracy,\n",
        "      })\n",
        "\n",
        "\n",
        "      if os.path.exists(current_model_save_path):\n",
        "          artifact = wandb.Artifact(name=f\"{model_name}_best_model\", type=\"model\")\n",
        "          artifact.add_file(current_model_save_path)\n",
        "          run.log_artifact(artifact)\n",
        "          print(f\"Model checkpoint '{current_model_save_path}' logged as WandB artifact.\")\n",
        "      else:\n",
        "          print(f\"Warning: Model checkpoint '{current_model_save_path}' not found. Cannot log as artifact.\")\n",
        "\n",
        "\n",
        "\n",
        "print(\"\\n===== All Models Training Complete =====\")\n",
        "print(\"\\n--- Summary of Model Performance ---\")\n",
        "for model_name, data in new_results.items():\n",
        "    print(f\"\\nModel: {model_name}\")\n",
        "    print(f\"  Final Validation Accuracy: {data['final_val_accuracy']:.4f}\")\n"
      ],
      "metadata": {
        "colab": {
          "base_uri": "https://localhost:8080/",
          "height": 1000
        },
        "id": "si08O0lRy9-U",
        "outputId": "d05cda59-7395-42c7-8d8f-2b09738fa33c"
      },
      "execution_count": 80,
      "outputs": [
        {
          "output_type": "display_data",
          "data": {
            "text/plain": [
              "<IPython.core.display.HTML object>"
            ],
            "text/html": [
              "Tracking run with wandb version 0.19.11"
            ]
          },
          "metadata": {}
        },
        {
          "output_type": "display_data",
          "data": {
            "text/plain": [
              "<IPython.core.display.HTML object>"
            ],
            "text/html": [
              "Run data is saved locally in <code>/content/wandb/run-20250607_214140-7n9gou4b</code>"
            ]
          },
          "metadata": {}
        },
        {
          "output_type": "display_data",
          "data": {
            "text/plain": [
              "<IPython.core.display.HTML object>"
            ],
            "text/html": [
              "Syncing run <strong><a href='https://wandb.ai/alaki22-free-university-of-tbilisi-/FER2013_New_Models_Training/runs/7n9gou4b' target=\"_blank\">Training_CNN_GlobalAvgPool</a></strong> to <a href='https://wandb.ai/alaki22-free-university-of-tbilisi-/FER2013_New_Models_Training' target=\"_blank\">Weights & Biases</a> (<a href='https://wandb.me/developer-guide' target=\"_blank\">docs</a>)<br>"
            ]
          },
          "metadata": {}
        },
        {
          "output_type": "display_data",
          "data": {
            "text/plain": [
              "<IPython.core.display.HTML object>"
            ],
            "text/html": [
              " View project at <a href='https://wandb.ai/alaki22-free-university-of-tbilisi-/FER2013_New_Models_Training' target=\"_blank\">https://wandb.ai/alaki22-free-university-of-tbilisi-/FER2013_New_Models_Training</a>"
            ]
          },
          "metadata": {}
        },
        {
          "output_type": "display_data",
          "data": {
            "text/plain": [
              "<IPython.core.display.HTML object>"
            ],
            "text/html": [
              " View run at <a href='https://wandb.ai/alaki22-free-university-of-tbilisi-/FER2013_New_Models_Training/runs/7n9gou4b' target=\"_blank\">https://wandb.ai/alaki22-free-university-of-tbilisi-/FER2013_New_Models_Training/runs/7n9gou4b</a>"
            ]
          },
          "metadata": {}
        },
        {
          "output_type": "stream",
          "name": "stdout",
          "text": [
            "\n",
            "===== Training CNN_GlobalAvgPool =====\n",
            "\n",
            "--- Training CNN_GlobalAveragePooling on FULL dataset ---\n",
            "Epoch [1/50], Train Loss: 1.7095, Train Acc: 0.3080, Val Loss: 1.5825, Val Acc: 0.3828\n",
            " --> Model saved: Best validation loss improved to 1.5825\n",
            "Epoch [2/50], Train Loss: 1.3878, Train Acc: 0.4687, Val Loss: 1.3565, Val Acc: 0.4882\n",
            " --> Model saved: Best validation loss improved to 1.3565\n",
            "Epoch [3/50], Train Loss: 1.2580, Train Acc: 0.5235, Val Loss: 1.1956, Val Acc: 0.5467\n",
            " --> Model saved: Best validation loss improved to 1.1956\n",
            "Epoch [4/50], Train Loss: 1.1893, Train Acc: 0.5498, Val Loss: 1.2386, Val Acc: 0.5183\n",
            " --> Validation loss did not improve. Epochs no improve: 1\n",
            "Epoch [5/50], Train Loss: 1.1448, Train Acc: 0.5682, Val Loss: 1.1188, Val Acc: 0.5656\n",
            " --> Model saved: Best validation loss improved to 1.1188\n",
            "Epoch [6/50], Train Loss: 1.1105, Train Acc: 0.5837, Val Loss: 1.2197, Val Acc: 0.5489\n",
            " --> Validation loss did not improve. Epochs no improve: 1\n",
            "Epoch [7/50], Train Loss: 1.0759, Train Acc: 0.5942, Val Loss: 1.0752, Val Acc: 0.5974\n",
            " --> Model saved: Best validation loss improved to 1.0752\n",
            "Epoch [8/50], Train Loss: 1.0548, Train Acc: 0.6019, Val Loss: 1.0537, Val Acc: 0.5965\n",
            " --> Model saved: Best validation loss improved to 1.0537\n",
            "Epoch [9/50], Train Loss: 1.0342, Train Acc: 0.6109, Val Loss: 1.0045, Val Acc: 0.6188\n",
            " --> Model saved: Best validation loss improved to 1.0045\n",
            "Epoch [10/50], Train Loss: 1.0186, Train Acc: 0.6187, Val Loss: 1.0512, Val Acc: 0.6085\n",
            " --> Validation loss did not improve. Epochs no improve: 1\n",
            "Epoch [11/50], Train Loss: 0.9875, Train Acc: 0.6278, Val Loss: 1.0508, Val Acc: 0.6046\n",
            " --> Validation loss did not improve. Epochs no improve: 2\n",
            "Epoch [12/50], Train Loss: 0.9725, Train Acc: 0.6356, Val Loss: 0.9975, Val Acc: 0.6275\n",
            " --> Model saved: Best validation loss improved to 0.9975\n",
            "Epoch [13/50], Train Loss: 0.9577, Train Acc: 0.6447, Val Loss: 1.0415, Val Acc: 0.6080\n",
            " --> Validation loss did not improve. Epochs no improve: 1\n",
            "Epoch [14/50], Train Loss: 0.9385, Train Acc: 0.6486, Val Loss: 0.9628, Val Acc: 0.6403\n",
            " --> Model saved: Best validation loss improved to 0.9628\n",
            "Epoch [15/50], Train Loss: 0.9211, Train Acc: 0.6552, Val Loss: 0.9717, Val Acc: 0.6305\n",
            " --> Validation loss did not improve. Epochs no improve: 1\n",
            "Epoch [16/50], Train Loss: 0.9058, Train Acc: 0.6650, Val Loss: 1.0355, Val Acc: 0.6158\n",
            " --> Validation loss did not improve. Epochs no improve: 2\n",
            "Epoch [17/50], Train Loss: 0.8932, Train Acc: 0.6656, Val Loss: 1.0404, Val Acc: 0.6258\n",
            " --> Validation loss did not improve. Epochs no improve: 3\n",
            "Epoch [18/50], Train Loss: 0.8784, Train Acc: 0.6747, Val Loss: 0.9950, Val Acc: 0.6314\n",
            " --> Validation loss did not improve. Epochs no improve: 4\n",
            "Epoch [19/50], Train Loss: 0.8160, Train Acc: 0.6974, Val Loss: 0.8974, Val Acc: 0.6723\n",
            " --> Model saved: Best validation loss improved to 0.8974\n",
            "Epoch [20/50], Train Loss: 0.7971, Train Acc: 0.7037, Val Loss: 0.9363, Val Acc: 0.6604\n",
            " --> Validation loss did not improve. Epochs no improve: 1\n",
            "Epoch [21/50], Train Loss: 0.7776, Train Acc: 0.7134, Val Loss: 0.9106, Val Acc: 0.6707\n",
            " --> Validation loss did not improve. Epochs no improve: 2\n",
            "Epoch [22/50], Train Loss: 0.7675, Train Acc: 0.7173, Val Loss: 0.9200, Val Acc: 0.6659\n",
            " --> Validation loss did not improve. Epochs no improve: 3\n",
            "Epoch [23/50], Train Loss: 0.7527, Train Acc: 0.7217, Val Loss: 0.9387, Val Acc: 0.6615\n",
            " --> Validation loss did not improve. Epochs no improve: 4\n",
            "Epoch [24/50], Train Loss: 0.7147, Train Acc: 0.7363, Val Loss: 0.9096, Val Acc: 0.6790\n",
            " --> Validation loss did not improve. Epochs no improve: 5\n",
            "Epoch [25/50], Train Loss: 0.6955, Train Acc: 0.7454, Val Loss: 0.9237, Val Acc: 0.6712\n",
            " --> Validation loss did not improve. Epochs no improve: 6\n",
            "Epoch [26/50], Train Loss: 0.6887, Train Acc: 0.7475, Val Loss: 0.9152, Val Acc: 0.6740\n",
            " --> Validation loss did not improve. Epochs no improve: 7\n",
            "Early stopping triggered after 7 epochs without improvement.\n",
            "Training complete.\n",
            "\n",
            "--- Evaluation for CNN_GlobalAvgPool on Validation Set (Best Model) ---\n",
            "Final Validation Accuracy: 0.6723\n",
            "\n",
            "--- Evaluation for CNN_GlobalAvgPool on Test Set (Best Model) ---\n",
            "Final Test Accuracy: 0.6581\n",
            "Model checkpoint 'best_cnn_globalavgpool.pth' logged as WandB artifact.\n"
          ]
        },
        {
          "output_type": "display_data",
          "data": {
            "text/plain": [
              "<IPython.core.display.HTML object>"
            ],
            "text/html": []
          },
          "metadata": {}
        },
        {
          "output_type": "display_data",
          "data": {
            "text/plain": [
              "<IPython.core.display.HTML object>"
            ],
            "text/html": [
              "<br>    <style><br>        .wandb-row {<br>            display: flex;<br>            flex-direction: row;<br>            flex-wrap: wrap;<br>            justify-content: flex-start;<br>            width: 100%;<br>        }<br>        .wandb-col {<br>            display: flex;<br>            flex-direction: column;<br>            flex-basis: 100%;<br>            flex: 1;<br>            padding: 10px;<br>        }<br>    </style><br><div class=\"wandb-row\"><div class=\"wandb-col\"><h3>Run history:</h3><br/><table class=\"wandb\"><tr><td>epoch</td><td>▁▁▂▂▂▂▃▃▃▄▄▄▄▅▅▅▅▆▆▆▇▇▇▇██</td></tr><tr><td>final_test_accuracy</td><td>▁</td></tr><tr><td>final_validation_accuracy</td><td>▁</td></tr><tr><td>train_accuracy</td><td>▁▄▄▅▅▅▆▆▆▆▆▆▆▆▇▇▇▇▇▇▇█████</td></tr><tr><td>train_loss</td><td>█▆▅▄▄▄▄▄▃▃▃▃▃▃▃▂▂▂▂▂▂▂▁▁▁▁</td></tr><tr><td>val_accuracy</td><td>▁▃▅▄▅▅▆▆▇▆▆▇▆▇▇▇▇▇████████</td></tr><tr><td>val_loss</td><td>█▆▄▄▃▄▃▃▂▃▃▂▂▂▂▂▂▂▁▁▁▁▁▁▁▁</td></tr></table><br/></div><div class=\"wandb-col\"><h3>Run summary:</h3><br/><table class=\"wandb\"><tr><td>epoch</td><td>26</td></tr><tr><td>final_test_accuracy</td><td>0.65812</td></tr><tr><td>final_validation_accuracy</td><td>0.67233</td></tr><tr><td>train_accuracy</td><td>0.7475</td></tr><tr><td>train_loss</td><td>0.68868</td></tr><tr><td>val_accuracy</td><td>0.674</td></tr><tr><td>val_loss</td><td>0.91518</td></tr></table><br/></div></div>"
            ]
          },
          "metadata": {}
        },
        {
          "output_type": "display_data",
          "data": {
            "text/plain": [
              "<IPython.core.display.HTML object>"
            ],
            "text/html": [
              " View run <strong style=\"color:#cdcd00\">Training_CNN_GlobalAvgPool</strong> at: <a href='https://wandb.ai/alaki22-free-university-of-tbilisi-/FER2013_New_Models_Training/runs/7n9gou4b' target=\"_blank\">https://wandb.ai/alaki22-free-university-of-tbilisi-/FER2013_New_Models_Training/runs/7n9gou4b</a><br> View project at: <a href='https://wandb.ai/alaki22-free-university-of-tbilisi-/FER2013_New_Models_Training' target=\"_blank\">https://wandb.ai/alaki22-free-university-of-tbilisi-/FER2013_New_Models_Training</a><br>Synced 5 W&B file(s), 1 media file(s), 2 artifact file(s) and 0 other file(s)"
            ]
          },
          "metadata": {}
        },
        {
          "output_type": "display_data",
          "data": {
            "text/plain": [
              "<IPython.core.display.HTML object>"
            ],
            "text/html": [
              "Find logs at: <code>./wandb/run-20250607_214140-7n9gou4b/logs</code>"
            ]
          },
          "metadata": {}
        },
        {
          "output_type": "stream",
          "name": "stdout",
          "text": [
            "\n",
            "===== All Models Training Complete =====\n",
            "\n",
            "--- Summary of Model Performance ---\n",
            "\n",
            "Model: CNN_GlobalAvgPool\n",
            "  Final Validation Accuracy: 0.6723\n"
          ]
        }
      ]
    }
  ]
}